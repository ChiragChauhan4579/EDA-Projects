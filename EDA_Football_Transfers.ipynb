{
  "nbformat": 4,
  "nbformat_minor": 0,
  "metadata": {
    "colab": {
      "name": "EDA-Football-Transfers.ipynb",
      "provenance": [],
      "collapsed_sections": []
    },
    "kernelspec": {
      "name": "python3",
      "display_name": "Python 3"
    },
    "language_info": {
      "name": "python"
    },
    "accelerator": "GPU"
  },
  "cells": [
    {
      "cell_type": "code",
      "metadata": {
        "id": "xxGio8EKQeLQ"
      },
      "source": [
        "import numpy as np\n",
        "import pandas as pd\n",
        "import matplotlib.pyplot as plt\n",
        "import seaborn as sns"
      ],
      "execution_count": 2,
      "outputs": []
    },
    {
      "cell_type": "code",
      "metadata": {
        "id": "rY9CR-zlQ3j2"
      },
      "source": [
        "df = pd.read_csv('/content/drive/MyDrive/Dataset/top250-00-19.csv')"
      ],
      "execution_count": 3,
      "outputs": []
    },
    {
      "cell_type": "code",
      "metadata": {
        "colab": {
          "base_uri": "https://localhost:8080/",
          "height": 356
        },
        "id": "kEquDJ2bRAqW",
        "outputId": "2fc3dfcd-c243-4425-e97f-6273f332d9f0"
      },
      "source": [
        "df.head(10)"
      ],
      "execution_count": 4,
      "outputs": [
        {
          "output_type": "execute_result",
          "data": {
            "text/html": [
              "<div>\n",
              "<style scoped>\n",
              "    .dataframe tbody tr th:only-of-type {\n",
              "        vertical-align: middle;\n",
              "    }\n",
              "\n",
              "    .dataframe tbody tr th {\n",
              "        vertical-align: top;\n",
              "    }\n",
              "\n",
              "    .dataframe thead th {\n",
              "        text-align: right;\n",
              "    }\n",
              "</style>\n",
              "<table border=\"1\" class=\"dataframe\">\n",
              "  <thead>\n",
              "    <tr style=\"text-align: right;\">\n",
              "      <th></th>\n",
              "      <th>Name</th>\n",
              "      <th>Position</th>\n",
              "      <th>Age</th>\n",
              "      <th>Team_from</th>\n",
              "      <th>League_from</th>\n",
              "      <th>Team_to</th>\n",
              "      <th>League_to</th>\n",
              "      <th>Season</th>\n",
              "      <th>Market_value</th>\n",
              "      <th>Transfer_fee</th>\n",
              "    </tr>\n",
              "  </thead>\n",
              "  <tbody>\n",
              "    <tr>\n",
              "      <th>0</th>\n",
              "      <td>Luís Figo</td>\n",
              "      <td>Right Winger</td>\n",
              "      <td>27</td>\n",
              "      <td>FC Barcelona</td>\n",
              "      <td>LaLiga</td>\n",
              "      <td>Real Madrid</td>\n",
              "      <td>LaLiga</td>\n",
              "      <td>2000-2001</td>\n",
              "      <td>NaN</td>\n",
              "      <td>60000000</td>\n",
              "    </tr>\n",
              "    <tr>\n",
              "      <th>1</th>\n",
              "      <td>Hernán Crespo</td>\n",
              "      <td>Centre-Forward</td>\n",
              "      <td>25</td>\n",
              "      <td>Parma</td>\n",
              "      <td>Serie A</td>\n",
              "      <td>Lazio</td>\n",
              "      <td>Serie A</td>\n",
              "      <td>2000-2001</td>\n",
              "      <td>NaN</td>\n",
              "      <td>56810000</td>\n",
              "    </tr>\n",
              "    <tr>\n",
              "      <th>2</th>\n",
              "      <td>Marc Overmars</td>\n",
              "      <td>Left Winger</td>\n",
              "      <td>27</td>\n",
              "      <td>Arsenal</td>\n",
              "      <td>Premier League</td>\n",
              "      <td>FC Barcelona</td>\n",
              "      <td>LaLiga</td>\n",
              "      <td>2000-2001</td>\n",
              "      <td>NaN</td>\n",
              "      <td>40000000</td>\n",
              "    </tr>\n",
              "    <tr>\n",
              "      <th>3</th>\n",
              "      <td>Gabriel Batistuta</td>\n",
              "      <td>Centre-Forward</td>\n",
              "      <td>31</td>\n",
              "      <td>Fiorentina</td>\n",
              "      <td>Serie A</td>\n",
              "      <td>AS Roma</td>\n",
              "      <td>Serie A</td>\n",
              "      <td>2000-2001</td>\n",
              "      <td>NaN</td>\n",
              "      <td>36150000</td>\n",
              "    </tr>\n",
              "    <tr>\n",
              "      <th>4</th>\n",
              "      <td>Nicolas Anelka</td>\n",
              "      <td>Centre-Forward</td>\n",
              "      <td>21</td>\n",
              "      <td>Real Madrid</td>\n",
              "      <td>LaLiga</td>\n",
              "      <td>Paris SG</td>\n",
              "      <td>Ligue 1</td>\n",
              "      <td>2000-2001</td>\n",
              "      <td>NaN</td>\n",
              "      <td>34500000</td>\n",
              "    </tr>\n",
              "    <tr>\n",
              "      <th>5</th>\n",
              "      <td>Rio Ferdinand</td>\n",
              "      <td>Centre-Back</td>\n",
              "      <td>22</td>\n",
              "      <td>West Ham</td>\n",
              "      <td>Premier League</td>\n",
              "      <td>Leeds</td>\n",
              "      <td>Premier League</td>\n",
              "      <td>2000-2001</td>\n",
              "      <td>NaN</td>\n",
              "      <td>26000000</td>\n",
              "    </tr>\n",
              "    <tr>\n",
              "      <th>6</th>\n",
              "      <td>Flávio Conceicao</td>\n",
              "      <td>Central Midfield</td>\n",
              "      <td>26</td>\n",
              "      <td>Dep. La Coruña</td>\n",
              "      <td>LaLiga</td>\n",
              "      <td>Real Madrid</td>\n",
              "      <td>LaLiga</td>\n",
              "      <td>2000-2001</td>\n",
              "      <td>NaN</td>\n",
              "      <td>25000000</td>\n",
              "    </tr>\n",
              "    <tr>\n",
              "      <th>7</th>\n",
              "      <td>Savo Milosevic</td>\n",
              "      <td>Centre-Forward</td>\n",
              "      <td>26</td>\n",
              "      <td>Real Zaragoza</td>\n",
              "      <td>LaLiga</td>\n",
              "      <td>Parma</td>\n",
              "      <td>Serie A</td>\n",
              "      <td>2000-2001</td>\n",
              "      <td>NaN</td>\n",
              "      <td>25000000</td>\n",
              "    </tr>\n",
              "    <tr>\n",
              "      <th>8</th>\n",
              "      <td>David Trézéguet</td>\n",
              "      <td>Centre-Forward</td>\n",
              "      <td>22</td>\n",
              "      <td>Monaco</td>\n",
              "      <td>Ligue 1</td>\n",
              "      <td>Juventus</td>\n",
              "      <td>Serie A</td>\n",
              "      <td>2000-2001</td>\n",
              "      <td>NaN</td>\n",
              "      <td>23240000</td>\n",
              "    </tr>\n",
              "    <tr>\n",
              "      <th>9</th>\n",
              "      <td>Claudio López</td>\n",
              "      <td>Centre-Forward</td>\n",
              "      <td>25</td>\n",
              "      <td>Valencia CF</td>\n",
              "      <td>LaLiga</td>\n",
              "      <td>Lazio</td>\n",
              "      <td>Serie A</td>\n",
              "      <td>2000-2001</td>\n",
              "      <td>NaN</td>\n",
              "      <td>23000000</td>\n",
              "    </tr>\n",
              "  </tbody>\n",
              "</table>\n",
              "</div>"
            ],
            "text/plain": [
              "                Name          Position  ...  Market_value Transfer_fee\n",
              "0          Luís Figo      Right Winger  ...           NaN     60000000\n",
              "1      Hernán Crespo    Centre-Forward  ...           NaN     56810000\n",
              "2      Marc Overmars       Left Winger  ...           NaN     40000000\n",
              "3  Gabriel Batistuta    Centre-Forward  ...           NaN     36150000\n",
              "4     Nicolas Anelka    Centre-Forward  ...           NaN     34500000\n",
              "5      Rio Ferdinand       Centre-Back  ...           NaN     26000000\n",
              "6   Flávio Conceicao  Central Midfield  ...           NaN     25000000\n",
              "7     Savo Milosevic    Centre-Forward  ...           NaN     25000000\n",
              "8    David Trézéguet    Centre-Forward  ...           NaN     23240000\n",
              "9      Claudio López    Centre-Forward  ...           NaN     23000000\n",
              "\n",
              "[10 rows x 10 columns]"
            ]
          },
          "metadata": {},
          "execution_count": 4
        }
      ]
    },
    {
      "cell_type": "code",
      "metadata": {
        "colab": {
          "base_uri": "https://localhost:8080/"
        },
        "id": "FD0Xfyk0RB7n",
        "outputId": "29075f66-cda3-45e5-8d8a-7b0550791e31"
      },
      "source": [
        "df.info()"
      ],
      "execution_count": 5,
      "outputs": [
        {
          "output_type": "stream",
          "text": [
            "<class 'pandas.core.frame.DataFrame'>\n",
            "RangeIndex: 4700 entries, 0 to 4699\n",
            "Data columns (total 10 columns):\n",
            " #   Column        Non-Null Count  Dtype  \n",
            "---  ------        --------------  -----  \n",
            " 0   Name          4700 non-null   object \n",
            " 1   Position      4700 non-null   object \n",
            " 2   Age           4700 non-null   int64  \n",
            " 3   Team_from     4700 non-null   object \n",
            " 4   League_from   4700 non-null   object \n",
            " 5   Team_to       4700 non-null   object \n",
            " 6   League_to     4700 non-null   object \n",
            " 7   Season        4700 non-null   object \n",
            " 8   Market_value  3440 non-null   float64\n",
            " 9   Transfer_fee  4700 non-null   int64  \n",
            "dtypes: float64(1), int64(2), object(7)\n",
            "memory usage: 367.3+ KB\n"
          ],
          "name": "stdout"
        }
      ]
    },
    {
      "cell_type": "code",
      "metadata": {
        "colab": {
          "base_uri": "https://localhost:8080/"
        },
        "id": "k-zCY-41RjMs",
        "outputId": "6de0bd03-bc4e-4829-8d29-428080748fc0"
      },
      "source": [
        "df.isnull().sum()"
      ],
      "execution_count": 6,
      "outputs": [
        {
          "output_type": "execute_result",
          "data": {
            "text/plain": [
              "Name               0\n",
              "Position           0\n",
              "Age                0\n",
              "Team_from          0\n",
              "League_from        0\n",
              "Team_to            0\n",
              "League_to          0\n",
              "Season             0\n",
              "Market_value    1260\n",
              "Transfer_fee       0\n",
              "dtype: int64"
            ]
          },
          "metadata": {},
          "execution_count": 6
        }
      ]
    },
    {
      "cell_type": "markdown",
      "metadata": {
        "id": "7Z7Xt8cfRyP5"
      },
      "source": [
        "# 10 highest transfer fees"
      ]
    },
    {
      "cell_type": "code",
      "metadata": {
        "id": "-_s12yIqTFA_"
      },
      "source": [
        "h_fees = df.iloc[0:10,:]"
      ],
      "execution_count": 7,
      "outputs": []
    },
    {
      "cell_type": "code",
      "metadata": {
        "colab": {
          "base_uri": "https://localhost:8080/",
          "height": 905
        },
        "id": "ANlwtCowSLP-",
        "outputId": "b9db3b64-9b19-4407-e3e3-05cf3a67281c"
      },
      "source": [
        "plt.figure(figsize=(15,15))\n",
        "sns.barplot(x=h_fees.Name,y=h_fees['Transfer_fee'])\n",
        "plt.ylim(0,80000000)\n",
        "plt.ylabel('Transfer Fee in $')\n",
        "plt.xlabel('Player name')"
      ],
      "execution_count": 8,
      "outputs": [
        {
          "output_type": "execute_result",
          "data": {
            "text/plain": [
              "Text(0.5, 0, 'Player name')"
            ]
          },
          "metadata": {},
          "execution_count": 8
        },
        {
          "output_type": "display_data",
          "data": {
            "image/png": "[encoded data removed]",
            "text/plain": [
              "<Figure size 1080x1080 with 1 Axes>"
            ]
          },
          "metadata": {
            "needs_background": "light"
          }
        }
      ]
    },
    {
      "cell_type": "markdown",
      "metadata": {
        "id": "WTB2zfXWUVKD"
      },
      "source": [
        "# 10 lowest transfer fees"
      ]
    },
    {
      "cell_type": "code",
      "metadata": {
        "id": "ah6ZdEiDTTQf"
      },
      "source": [
        "l_fees = df.tail(10)"
      ],
      "execution_count": 9,
      "outputs": []
    },
    {
      "cell_type": "code",
      "metadata": {
        "colab": {
          "base_uri": "https://localhost:8080/",
          "height": 905
        },
        "id": "UgQAtJ1XUcCh",
        "outputId": "0e1da88a-3315-4a2f-9ed7-4b1132974d5a"
      },
      "source": [
        "plt.figure(figsize=(15,15))\n",
        "sns.barplot(x=l_fees.Name,y=l_fees['Transfer_fee'])\n",
        "plt.ylim(0,6000000)\n",
        "plt.ylabel('Transfer Fee in $')\n",
        "plt.xlabel('Player name')"
      ],
      "execution_count": 10,
      "outputs": [
        {
          "output_type": "execute_result",
          "data": {
            "text/plain": [
              "Text(0.5, 0, 'Player name')"
            ]
          },
          "metadata": {},
          "execution_count": 10
        },
        {
          "output_type": "display_data",
          "data": {
            "image/png": "[encoded data removed]",
            "text/plain": [
              "<Figure size 1080x1080 with 1 Axes>"
            ]
          },
          "metadata": {
            "needs_background": "light"
          }
        }
      ]
    },
    {
      "cell_type": "markdown",
      "metadata": {
        "id": "F1Zwx5F_U4hc"
      },
      "source": [
        "# Which position players got most transferr."
      ]
    },
    {
      "cell_type": "code",
      "metadata": {
        "colab": {
          "base_uri": "https://localhost:8080/",
          "height": 592
        },
        "id": "Q_c0ffUvUswA",
        "outputId": "758181d9-e644-45cb-cc7a-e0fa70287c25"
      },
      "source": [
        "plt.figure(figsize=(10,10))\n",
        "df['Position'].value_counts().head(10).plot(kind='pie')\n",
        "plt.ylabel(' ')"
      ],
      "execution_count": 11,
      "outputs": [
        {
          "output_type": "execute_result",
          "data": {
            "text/plain": [
              "Text(0, 0.5, ' ')"
            ]
          },
          "metadata": {},
          "execution_count": 11
        },
        {
          "output_type": "display_data",
          "data": {
            "image/png": "[encoded data removed]",
            "text/plain": [
              "<Figure size 720x720 with 1 Axes>"
            ]
          },
          "metadata": {}
        }
      ]
    },
    {
      "cell_type": "markdown",
      "metadata": {
        "id": "CblHu2qZWDYa"
      },
      "source": [
        "# No. of Transfers between leagues\n",
        "\n"
      ]
    },
    {
      "cell_type": "code",
      "metadata": {
        "id": "0P3jVHh9ZAur"
      },
      "source": [
        "league = df[['League_from','League_to']]"
      ],
      "execution_count": 12,
      "outputs": []
    },
    {
      "cell_type": "code",
      "metadata": {
        "colab": {
          "base_uri": "https://localhost:8080/",
          "height": 202
        },
        "id": "w7R1gia6Zskq",
        "outputId": "4e86e172-e2b8-41a6-f2d9-6e214e1e3b55"
      },
      "source": [
        "league.head()"
      ],
      "execution_count": 13,
      "outputs": [
        {
          "output_type": "execute_result",
          "data": {
            "text/html": [
              "<div>\n",
              "<style scoped>\n",
              "    .dataframe tbody tr th:only-of-type {\n",
              "        vertical-align: middle;\n",
              "    }\n",
              "\n",
              "    .dataframe tbody tr th {\n",
              "        vertical-align: top;\n",
              "    }\n",
              "\n",
              "    .dataframe thead th {\n",
              "        text-align: right;\n",
              "    }\n",
              "</style>\n",
              "<table border=\"1\" class=\"dataframe\">\n",
              "  <thead>\n",
              "    <tr style=\"text-align: right;\">\n",
              "      <th></th>\n",
              "      <th>League_from</th>\n",
              "      <th>League_to</th>\n",
              "    </tr>\n",
              "  </thead>\n",
              "  <tbody>\n",
              "    <tr>\n",
              "      <th>0</th>\n",
              "      <td>LaLiga</td>\n",
              "      <td>LaLiga</td>\n",
              "    </tr>\n",
              "    <tr>\n",
              "      <th>1</th>\n",
              "      <td>Serie A</td>\n",
              "      <td>Serie A</td>\n",
              "    </tr>\n",
              "    <tr>\n",
              "      <th>2</th>\n",
              "      <td>Premier League</td>\n",
              "      <td>LaLiga</td>\n",
              "    </tr>\n",
              "    <tr>\n",
              "      <th>3</th>\n",
              "      <td>Serie A</td>\n",
              "      <td>Serie A</td>\n",
              "    </tr>\n",
              "    <tr>\n",
              "      <th>4</th>\n",
              "      <td>LaLiga</td>\n",
              "      <td>Ligue 1</td>\n",
              "    </tr>\n",
              "  </tbody>\n",
              "</table>\n",
              "</div>"
            ],
            "text/plain": [
              "      League_from League_to\n",
              "0          LaLiga    LaLiga\n",
              "1         Serie A   Serie A\n",
              "2  Premier League    LaLiga\n",
              "3         Serie A   Serie A\n",
              "4          LaLiga   Ligue 1"
            ]
          },
          "metadata": {},
          "execution_count": 13
        }
      ]
    },
    {
      "cell_type": "code",
      "metadata": {
        "id": "FgKbF7LlZwWH"
      },
      "source": [
        "lis = []\n",
        "for i in range(0,len(league)):\n",
        "  a = league['League_from'][i]\n",
        "  b = league['League_to'][i]\n",
        "  s = a+'/'+b\n",
        "  lis.append(s)"
      ],
      "execution_count": 14,
      "outputs": []
    },
    {
      "cell_type": "code",
      "metadata": {
        "id": "cgzhuFK-aCWp"
      },
      "source": [
        "league['temp'] = lis"
      ],
      "execution_count": null,
      "outputs": []
    },
    {
      "cell_type": "code",
      "metadata": {
        "colab": {
          "base_uri": "https://localhost:8080/",
          "height": 356
        },
        "id": "u8IHEJdlaGYF",
        "outputId": "f5c168e0-f608-4ae9-eca0-cb323a9636e2"
      },
      "source": [
        "league.head(10)"
      ],
      "execution_count": 16,
      "outputs": [
        {
          "output_type": "execute_result",
          "data": {
            "text/html": [
              "<div>\n",
              "<style scoped>\n",
              "    .dataframe tbody tr th:only-of-type {\n",
              "        vertical-align: middle;\n",
              "    }\n",
              "\n",
              "    .dataframe tbody tr th {\n",
              "        vertical-align: top;\n",
              "    }\n",
              "\n",
              "    .dataframe thead th {\n",
              "        text-align: right;\n",
              "    }\n",
              "</style>\n",
              "<table border=\"1\" class=\"dataframe\">\n",
              "  <thead>\n",
              "    <tr style=\"text-align: right;\">\n",
              "      <th></th>\n",
              "      <th>League_from</th>\n",
              "      <th>League_to</th>\n",
              "      <th>temp</th>\n",
              "    </tr>\n",
              "  </thead>\n",
              "  <tbody>\n",
              "    <tr>\n",
              "      <th>0</th>\n",
              "      <td>LaLiga</td>\n",
              "      <td>LaLiga</td>\n",
              "      <td>LaLiga/LaLiga</td>\n",
              "    </tr>\n",
              "    <tr>\n",
              "      <th>1</th>\n",
              "      <td>Serie A</td>\n",
              "      <td>Serie A</td>\n",
              "      <td>Serie A/Serie A</td>\n",
              "    </tr>\n",
              "    <tr>\n",
              "      <th>2</th>\n",
              "      <td>Premier League</td>\n",
              "      <td>LaLiga</td>\n",
              "      <td>Premier League/LaLiga</td>\n",
              "    </tr>\n",
              "    <tr>\n",
              "      <th>3</th>\n",
              "      <td>Serie A</td>\n",
              "      <td>Serie A</td>\n",
              "      <td>Serie A/Serie A</td>\n",
              "    </tr>\n",
              "    <tr>\n",
              "      <th>4</th>\n",
              "      <td>LaLiga</td>\n",
              "      <td>Ligue 1</td>\n",
              "      <td>LaLiga/Ligue 1</td>\n",
              "    </tr>\n",
              "    <tr>\n",
              "      <th>5</th>\n",
              "      <td>Premier League</td>\n",
              "      <td>Premier League</td>\n",
              "      <td>Premier League/Premier League</td>\n",
              "    </tr>\n",
              "    <tr>\n",
              "      <th>6</th>\n",
              "      <td>LaLiga</td>\n",
              "      <td>LaLiga</td>\n",
              "      <td>LaLiga/LaLiga</td>\n",
              "    </tr>\n",
              "    <tr>\n",
              "      <th>7</th>\n",
              "      <td>LaLiga</td>\n",
              "      <td>Serie A</td>\n",
              "      <td>LaLiga/Serie A</td>\n",
              "    </tr>\n",
              "    <tr>\n",
              "      <th>8</th>\n",
              "      <td>Ligue 1</td>\n",
              "      <td>Serie A</td>\n",
              "      <td>Ligue 1/Serie A</td>\n",
              "    </tr>\n",
              "    <tr>\n",
              "      <th>9</th>\n",
              "      <td>LaLiga</td>\n",
              "      <td>Serie A</td>\n",
              "      <td>LaLiga/Serie A</td>\n",
              "    </tr>\n",
              "  </tbody>\n",
              "</table>\n",
              "</div>"
            ],
            "text/plain": [
              "      League_from       League_to                           temp\n",
              "0          LaLiga          LaLiga                  LaLiga/LaLiga\n",
              "1         Serie A         Serie A                Serie A/Serie A\n",
              "2  Premier League          LaLiga          Premier League/LaLiga\n",
              "3         Serie A         Serie A                Serie A/Serie A\n",
              "4          LaLiga         Ligue 1                 LaLiga/Ligue 1\n",
              "5  Premier League  Premier League  Premier League/Premier League\n",
              "6          LaLiga          LaLiga                  LaLiga/LaLiga\n",
              "7          LaLiga         Serie A                 LaLiga/Serie A\n",
              "8         Ligue 1         Serie A                Ligue 1/Serie A\n",
              "9          LaLiga         Serie A                 LaLiga/Serie A"
            ]
          },
          "metadata": {},
          "execution_count": 16
        }
      ]
    },
    {
      "cell_type": "code",
      "metadata": {
        "id": "F_2OkZUqaHzL"
      },
      "source": [
        "count = 0\n",
        "d = {}\n",
        "for i in range(0,len(league)):\n",
        "  a = league['temp'][i]\n",
        "  for j in range(0,len(league)):\n",
        "    if league['temp'][j] == a:\n",
        "      count += 1\n",
        "    else:\n",
        "      count += 0\n",
        "  d[a] = count\n",
        "  count = 0"
      ],
      "execution_count": 17,
      "outputs": []
    },
    {
      "cell_type": "code",
      "metadata": {
        "colab": {
          "base_uri": "https://localhost:8080/"
        },
        "id": "YfS4VboLdSCU",
        "outputId": "318a3b86-3918-4ad4-ef97-a118efb59496"
      },
      "source": [
        "sorted_d = sorted(d.items(), key=lambda x: x[1],reverse=True)    \n",
        "print(sorted_d)"
      ],
      "execution_count": 18,
      "outputs": [
        {
          "output_type": "stream",
          "text": [
            "[('Premier League/Premier League', 374), ('Serie A/Serie A', 359), ('Ligue 1/Ligue 1', 159), ('Championship/Premier League', 151), ('LaLiga/LaLiga', 147), ('1.Bundesliga/1.Bundesliga', 136), ('Ligue 1/Premier League', 125), ('LaLiga/Premier League', 98), ('Premier Liga/Premier Liga', 76), ('Serie B/Serie A', 74), ('Serie A/Premier League', 73), ('Eredivisie/Premier League', 65), ('Premier League/LaLiga', 62), ('LaLiga/Serie A', 61), ('Eredivisie/Eredivisie', 49), ('1.Bundesliga/Premier League', 48), ('Série A/Premier Liga', 47), ('Ligue 1/LaLiga', 44), ('First Division/Premier League', 42), ('Serie A/LaLiga', 40), ('Liga NOS/LaLiga', 39), ('Süper Lig/Süper Lig', 39), ('Liga NOS/Premier League', 38), ('Super League/Super League', 30), ('2.Bundesliga/1.Bundesliga', 29), ('LaLiga2/LaLiga', 28), ('Ligue 2/Ligue 1', 28), ('Premier League/Serie A', 25), ('Serie A/1.Bundesliga', 25), ('Serie A/Ligue 1', 25), ('Championship/Championship', 25), ('Premier League/Championship', 25), ('Premier Liga/Premier League', 24), ('Série A/Serie A', 22), ('Ligue 1/Serie A', 21), ('Premier League/Ligue 1', 21), ('LaLiga/Liga NOS', 21), ('LaLiga/1.Bundesliga', 21), ('Eredivisie/1.Bundesliga', 20), ('Super League/1.Bundesliga', 20), ('Premiership/Premier League', 20), ('LaLiga/Ligue 1', 19), ('Liga NOS/Liga NOS', 19), ('1.Bundesliga/LaLiga', 19), ('Serie A/Premier Liga', 19), ('Premier League/1.Bundesliga', 19), ('Liga NOS/Premier Liga', 19), ('Torneo Final/LaLiga', 19), ('1.Bundesliga/Serie A', 18), ('Liga NOS/Serie A', 18), ('Ligue 1/1.Bundesliga', 18), ('Jupiler Pro League/Premier League', 18), ('Série A/LaLiga', 18), ('Liga MX Clausura/Liga MX Clausura', 18), (' England/Premier League', 17), ('Série A/Ligue 1', 17), ('Super League/Premier League', 16), ('Série A/1.Bundesliga', 16), ('Série A/Premier League', 16), ('Liga NOS/Ligue 1', 15), ('Torneo Final/Liga NOS', 15), ('Torneo Final/Serie A', 15), ('Ligue 1/Premier Liga', 14), ('Série A/Liga NOS', 14), ('LaLiga/Premier Liga', 14), (' Brazil/Ligue 1', 13), ('Serie A/Serie B', 13), ('Eredivisie/LaLiga', 13), (' Brazil/1.Bundesliga', 12), ('Eredivisie/Serie A', 12), ('Serie A/Süper Lig', 12), ('Ligue 1/Süper Lig', 12), (' Brazil/Premier Liga', 12), ('Premier League/Süper Lig', 12), ('Primera División/Serie A', 12), (' Argentina/LaLiga', 11), ('Jupiler Pro League/Jupiler Pro League', 11), ('Süper Lig/Premier Liga', 11), ('Jupiler Pro League/Premier Liga', 11), (' Argentina/1.Bundesliga', 10), ('Premier League/ England', 10), ('Serie A/Super League', 10), ('Premier Liga/LaLiga', 10), ('Premier Liga/Ligue 1', 10), ('Süper Lig/LaLiga', 10), ('Jupiler Pro League/Ligue 1', 10), ('Jupiler Pro League/1.Bundesliga', 10), ('First Division/First Division', 10), ('Premier League/Super League', 10), ('Premier League/Premier Liga', 10), ('Premier Liga/1.Bundesliga', 10), ('Série A/Super League', 10), (' Scotland/Premier League', 9), ('Série A/Série A', 9), ('Premier Liga/Serie A', 8), (' Argentina/Premier League', 8), ('Süper Lig/Premier League', 8), ('Super League/Ligue 1', 8), ('LaLiga/Süper Lig', 8), ('1.Bundesliga/Ligue 1', 8), ('Super League/Serie A', 8), (' Brazil/LaLiga', 8), ('Ligue 2/Premier League', 8), ('Serie B/Serie B', 8), ('Superligaen/Premier League', 8), ('1.Bundesliga/Süper Lig', 8), ('Premier Liga/Super League', 8), ('Série A/Süper Lig', 8), ('Premier Liga/Série A', 8), ('Premier Liga/Süper Lig', 8), ('1.HNL/Serie A', 8), (' Argentina/Serie A', 7), (' Brazil/Liga NOS', 7), ('Süper Lig/Ligue 1', 7), (' Uruguay/Serie A', 7), (' England/ England', 7), ('Eliteserien/Premier League', 7), (' Serbia/Premier Liga', 7), (' Argentina/Premier Liga', 7), (' Argentina/ Mexico', 7), ('HET Liga/Premier Liga', 7), ('Allsvenskan/Eredivisie', 7), ('Torneo Final/Premier Liga', 7), ('1.HNL/Premier League', 7), ('League One/Premier League', 7), ('Eredivisie/Premier Liga', 7), ('Primera División/1.Bundesliga', 7), ('LaLiga/Super League', 7), ('LaLiga2/Premier League', 6), ('Eredivisie/Liga NOS', 6), ('Süper Lig/Serie A', 6), ('Jupiler Pro League/LaLiga', 6), (' Brazil/Premier League', 6), ('Premier League/First Division', 6), ('Eredivisie/Ligue 1', 6), (' Mexico/ Mexico', 6), ('Premier League/Eredivisie', 6), ('Liga NOS/Série A', 6), ('1.Bundesliga/Premier Liga', 6), ('Super League/Premier Liga', 6), ('Serie B/LaLiga', 6), ('Liga MX Clausura/LaLiga', 6), ('Liga MX Clausura/Premier League', 6), ('Championship/Serie A', 6), ('Bundesliga/1.Bundesliga', 6), ('LaLiga2/Serie A', 5), ('Premier League/ Scotland', 5), ('Liga NOS/Süper Lig', 5), (' Brazil/ Brazil', 5), ('LaLiga2/Ligue 1', 5), (' Brazil/Serie A', 5), ('Super League/Liga NOS', 5), ('Liga NOS/1.Bundesliga', 5), ('Torneo Final/Torneo Final', 5), ('1.Bundesliga/Série A', 5), ('Ligue 1/ Qatar', 5), ('Serie A/Série A', 5), ('Ligue 1/Championship', 5), ('Jupiler Pro League/Serie A', 5), ('League One/Super League', 5), ('Liga NOS/Championship', 5), (' Czech Republic/1.Bundesliga', 4), ('Super League/LaLiga', 4), ('Eredivisie/ Scotland', 4), (' Argentina/Ligue 1', 4), ('Serie A/Liga NOS', 4), (' Scotland/ Scotland', 4), (' Argentina/Super League', 4), ('Serie B/Premier League', 4), ('Jupiler Pro League/Eredivisie', 4), ('Jupiler Pro League/Süper Lig', 4), (' Brazil/Süper Lig', 4), ('Ligue 1/Super League', 4), (' Croatia/Premier Liga', 4), ('Serie C - A/Serie A', 4), (' Russia/Premier Liga', 4), ('HET Liga/1.Bundesliga', 4), ('1.Bundesliga/Eredivisie', 4), ('J1 League/ Qatar', 4), ('SuperLiga/Premier League', 4), ('Torneo Final/1.Bundesliga', 4), ('Liga MX Clausura/Liga NOS', 4), ('Ligue 2/1.Bundesliga', 4), ('1.HNL/Premier Liga', 4), ('LaLiga2/Premier Liga', 4), ('1.Bundesliga/Super League', 4), ('1.HNL/1.Bundesliga', 4), ('Primera División/Premier League', 4), ('Série A/Professional League', 4), ('Süper Lig/Super League', 4), ('Liga MX Apertura/Liga MX Apertura', 4), (' Serbia/Eredivisie', 3), (' Sweden/Eredivisie', 3), (' Brazil/Eredivisie', 3), ('Süper Lig/1.Bundesliga', 3), ('Premier League/Liga NOS', 3), ('Premier League/Premiership', 3), ('Jupiler Pro League/Championship', 3), ('Superligaen/Ligue 1', 3), ('HET Liga/Süper Lig', 3), (' Qatar/Ligue 1', 3), ('Bundesliga/Ligue 1', 3), ('SuperLiga/LaLiga', 3), ('Série A/ United Arab Emirates', 3), ('SuperLiga/Serie A', 3), ('Torneo Final/Premier League', 3), ('Ligue 1/Liga NOS', 3), ('Superligaen/Premier Liga', 3), ('Superligaen/Serie A', 3), ('Championship/1.Bundesliga', 3), (' Russia/ Russia', 3), ('Premier League/ Russia', 3), ('Jupiler Pro League/Liga NOS', 3), ('Primera División/Premier Liga', 3), ('Premier League/MLS', 3), ('LaLiga2/1.Bundesliga', 3), ('Ligue 1/UAE Gulf League', 3), ('Torneo Inicial/LaLiga', 3), ('Super League/League One', 3), ('UAE Gulf League/Super League', 3), ('Primera División/Ligue 1', 3), ('Primera División/LaLiga', 3), ('Primera División/Super League', 3), (' Croatia/Premier League', 2), ('LaLiga/ Scotland', 2), ('Super League/Bundesliga', 2), (' Croatia/Serie A', 2), (' Denmark/ Scotland', 2), (' Saudi Arabia/ Saudi Arabia', 2), (' Serbia/LaLiga', 2), ('First Division/ Scotland', 2), (' Mexico/Premier League', 2), ('J1 - 2nd Stage/Eredivisie', 2), (' Portugal/ Portugal', 2), (' Portugal/Ligue 1', 2), (' Scotland/First Division', 2), (' Denmark/Premier League', 2), (' Denmark/1.Bundesliga', 2), (' Argentina/Süper Lig', 2), (' Bulgaria/Ligue 1', 2), (' Uruguay/1.Bundesliga', 2), ('Second Division (bis 03/04)/Premier League', 2), (' Argentina/ Argentina', 2), ('Eliteserien/Jupiler Pro League', 2), (' Chile/Eredivisie', 2), (' China/ China', 2), (' Croatia/ Croatia', 2), (' Romania/Premier Liga', 2), (' Brazil/J1 - 2nd Stage', 2), (' Sweden/Ligue 1', 2), ('HET Liga/Eredivisie', 2), ('MLS/Premier League', 2), (' Spain/Premier League', 2), (' Chile/Serie A', 2), (' Uruguay/LaLiga', 2), ('HET Liga/Ligue 1', 2), (' Brazil/ United Arab Emirates', 2), (' Romania/Süper Lig', 2), ('Premier League/Jupiler Pro League', 2), (' Moldova/Premier Liga', 2), ('Eredivisie/Premiership', 2), ('NB I./Premier League', 2), ('LaLiga/ Qatar', 2), ('Ekstraklasa/Premier Liga', 2), ('Premier League/Superligaen', 2), ('Torneo Final/Série A', 2), ('Série A/ Saudi Arabia', 2), ('Serie A/Premiership', 2), (' Spain/ England', 2), ('Superligaen/1.Bundesliga', 2), ('Torneo Final/Jupiler Pro League', 2), ('1.HNL/Ligue 1', 2), (' Colombia/Ligue 1', 2), ('Série A/ Qatar', 2), ('Premiership/Premier Liga', 2), ('Allsvenskan/1.Bundesliga', 2), ('Championship/Premiership', 2), ('2ª B - Grupo III/LaLiga', 2), ('Super League/Süper Lig', 2), ('SuperLiga/Ligue 1', 2), ('Serie A/Eredivisie', 2), ('Serie A/Serie C - B', 2), ('Torneo Final/Liga MX Clausura', 2), ('Torneo Final/Ligue 1', 2), ('Premiership/Premiership', 2), ('Torneo Final/Super League', 2), ('Liga 1/Premier Liga', 2), ('Liga MX Clausura/Eredivisie', 2), ('Serie C - B/Serie A', 2), ('LaLiga2/Liga NOS', 2), ('Liga 1/Liga NOS', 2), ('Premier Liga/Liga NOS', 2), ('Liga 1/Serie A', 2), ('LaLiga/LaLiga2', 2), ('Championship/ Qatar', 2), ('Bundesliga/Serie A', 2), ('Ligue 1/Premiership', 2), ('LaLiga/Liga MX Clausura', 2), ('Primera División/Eredivisie', 2), ('Bundesliga/Eredivisie', 2), ('Ekstraklasa/1.Bundesliga', 2), ('Serie B/Liga NOS', 2), ('Primera B Nacional/Serie A', 2), ('Ligue 2/LaLiga', 2), ('Süper Lig/Stars League', 2), ('Ligue 1/Professional League', 2), ('Primera División/Série A', 2), ('2.Bundesliga/Premier League', 2), ('Premier League/UAE Gulf League', 2), ('Série A/Stars League', 2), ('Professional League/Professional League', 2), ('Liga 1/Premier League', 2), ('Ligue 1/Stars League', 2), ('Premier Liga/UAE Gulf League', 2), ('Super League/Stars League', 2), ('Bundesliga/Super League', 2), ('UAE Gulf League/UAE Gulf League', 2), ('Jupiler Pro League/Stars League', 2), ('Serie A/Championship', 2), ('League One/Championship', 2), ('Premier League/Stars League', 2), ('Série A/Primera División', 2), ('Liga Águila II/Série A', 2), ('Championship/Ligue 1', 2), ('Primera División/MLS', 2), ('LaLiga/Liga MX Apertura', 2), ('Championship/LaLiga', 2), ('Eliteserien/LaLiga', 1), (' Mexico/Serie A', 1), (' Chile/Liga NOS', 1), ('LaLiga2/ Brazil', 1), (' Uruguay/Super League', 1), (' Bulgaria/Premier League', 1), (' Korea, South/Serie A', 1), ('LaLiga2/Super League', 1), ('Ligue 1/ England', 1), ('Ekstraklasa/Super League', 1), ('Premier Liga/ England', 1), (' Latvia/ England', 1), ('J1 - 2nd Stage/First Division', 1), (' Finland/Eredivisie', 1), (' Serbia/Süper Lig', 1), (' Bulgaria/1.Bundesliga', 1), ('Liga NOS/ England', 1), (' Bulgaria/Premier Liga', 1), (' Croatia/1.Bundesliga', 1), ('Eliteserien/1.Bundesliga', 1), (' Australia/Eredivisie', 1), ('LaLiga/ Portugal', 1), (' Argentina/ Portugal', 1), (' Portugal/1.Bundesliga', 1), (' Czech Republic/Premier League', 1), (' Slovakia/Premier League', 1), ('Serie A/ Brazil', 1), (' Serbia/Premier League', 1), (' Romania/ Portugal', 1), (' Portugal/LaLiga', 1), (' Scotland/1.Bundesliga', 1), ('Süper Lig/ Portugal', 1), ('Vysheyshaya Liga/Serie A', 1), (' China/First Division', 1), ('1.Liga gr. 1/1.Bundesliga', 1), ('1.Bundesliga/ Scotland', 1), (' Chile/Bundesliga', 1), (' Iran/ United Arab Emirates', 1), (' Portugal/Eredivisie', 1), (' England/ Wales', 1), (' Brazil/J2 League', 1), ('Eredivisie/Super League', 1), (' Iran/1.Bundesliga', 1), (' Croatia/LaLiga', 1), ('Ligue 2/First Division', 1), ('Jupiler Pro League/First Division', 1), (' England/First Division', 1), ('Süper Lig/Jupiler Pro League', 1), ('Bundesliga/Süper Lig', 1), ('Serie A/Jupiler Pro League', 1), (' Venezuela/ Venezuela', 1), ('Primera Div. Apertura/Serie A', 1), ('First Division/LaLiga', 1), ('Süper Lig/ Argentina', 1), (' Czech Republic/Ligue 1', 1), ('Ligue 2/Süper Lig', 1), (' Korea, South/Eredivisie', 1), ('Ligue 1/ Brazil', 1), (' Czech Republic/Premier Liga', 1), (' France/Premier League', 1), (' Sweden/1.Bundesliga', 1), ('Auf-/Abstiegsrunde NLA/NLB/Super League', 1), ('Serie A/ Argentina', 1), ('U19 Eredivisie/ Belgium', 1), ('J1 - 2nd Stage/Serie A', 1), (' Chile/Serie B', 1), ('LaLiga/Bundesliga', 1), ('1.Lig/Süper Lig', 1), ('LaLiga/ Argentina', 1), (' China/1.Bundesliga', 1), ('First Division/Second Division (bis 03/04)', 1), ('First Division/Ligue 1', 1), (' Czech Republic/ Czech Republic', 1), (' Brazil/ Saudi Arabia', 1), ('1.Bundesliga/ Libya', 1), (' United States/Jupiler Pro League', 1), ('Eredivisie/ Israel', 1), (' Denmark/Serie A', 1), ('U19 Eredivisie/ England', 1), (' Brazil/ Mexico', 1), ('Second Division (bis 03/04)/Second Division (bis 03/04)', 1), ('Super League/Serie B', 1), ('Challenge League/1.Bundesliga', 1), (' Serbia/Ligue 1', 1), ('Süper Lig/J1 - 2nd Stage', 1), (\"Ligat ha'Al/Premier League\", 1), ('K League 1/LaLiga', 1), ('Süper Lig/ China', 1), (' Argentina/Serie B', 1), (' Tunisia/Süper Lig', 1), (' Romania/Serie A', 1), (' South Africa/Premier League', 1), (' Brazil/ Bulgaria', 1), ('1.Bundesliga/Jupiler Pro League', 1), ('Virsliga/Premier Liga', 1), (' Mexico/ Argentina', 1), ('Regionalliga Nord/1.Bundesliga', 1), (' Sweden/ Denmark', 1), (' Colombia/ Argentina', 1), ('First Division/Serie A', 1), ('Premier League/ Mexico', 1), (' Romania/LaLiga', 1), ('Vysheyshaya Liga/Premier Liga', 1), (' Sweden/ Sweden', 1), (' Romania/ Romania', 1), (' Sweden/Super League', 1), (' Brazil/ Korea, South', 1), ('Liga NOS/ United Arab Emirates', 1), ('Serie B/Süper Lig', 1), ('Eredivisie/Süper Lig', 1), (' Argentina/Série A', 1), (' Mexico/LaLiga', 1), ('LaLiga2/Süper Lig', 1), (' Mexico/Eredivisie', 1), ('Premiership/LaLiga', 1), ('Serie B/Serie C - B', 1), ('J1 League/Premier Liga', 1), (' Peru/Eredivisie', 1), (' Paraguay/Ligue 1', 1), ('Ligue 1/Jupiler Pro League', 1), ('Super League/Premiership', 1), (' Argentina/Eredivisie', 1), ('Eliteserien/Premier Liga', 1), ('Eredivisie/ Korea, South', 1), ('Ekstraklasa/Bundesliga', 1), ('Eliteserien/Championship', 1), ('MLS/Eredivisie', 1), (' Ukraine/Premier Liga', 1), (' Korea, South/Liga NOS', 1), ('Eliteserien/Liga NOS', 1), (' Paraguay/Premier Liga', 1), (' Serbia/Premiership', 1), ('MLS/Premier Liga', 1), (' Sweden/Allsvenskan', 1), ('SuperLiga/Premier Liga', 1), ('Ligue 1/J1 League', 1), ('Bundesliga/Bundesliga', 1), ('Ekstraklasa/Premiership', 1), (' Paraguay/1.Bundesliga', 1), ('1.Bundesliga/J1 League', 1), ('Eredivisie/J1 League', 1), ('J1 League/SuperLiga', 1), ('Superligaen/LaLiga', 1), (' Colombia/Premier League', 1), ('LaLiga2/Championship', 1), ('SuperLiga/Süper Lig', 1), ('LaLiga/ Korea, South', 1), (' Bulgaria/ Qatar', 1), ('OBOS-ligaen/Eliteserien', 1), ('Série A/J2 League', 1), ('Superligaen/Eredivisie', 1), (' Chile/LaLiga', 1), ('Ligue 1/Série A', 1), ('Premier League/Serie B', 1), ('Liga NOS/Liga MX Clausura', 1), ('Liga MX Clausura/1.Bundesliga', 1), ('Premier Liga/Torneo Final', 1), (' Colombia/Torneo Final', 1), ('Liga 1/Ligue 1', 1), ('Torneo Final/Serie B', 1), ('LaLiga/Premiership', 1), ('Superettan/Superligaen', 1), ('Liga 1/Eredivisie', 1), (' England/Championship', 1), ('Allsvenskan/Premier League', 1), ('J1 League/J1 League', 1), ('SuperLiga/1.Bundesliga', 1), ('Torneo Final/ Qatar', 1), ('LaLiga/Torneo Final', 1), ('Série A/2.Bundesliga', 1), ('Liga MX Clausura/Ligue 1', 1), ('Serie B/Eredivisie', 1), (' Uruguay/Liga NOS', 1), (' Chile/1.Bundesliga', 1), ('Eliteserien/2.Bundesliga', 1), (' Ghana/Süper Lig', 1), (' Chile/Premier League', 1), ('Ekstraklasa/Premier League', 1), ('2.Bundesliga/Liga MX Clausura', 1), ('LaLiga/ United Arab Emirates', 1), ('Serie A/LaLiga2', 1), ('Torneo Final/Eredivisie', 1), ('MLS/LaLiga', 1), ('Liga 1/ Saudi Arabia', 1), ('J1 League/ United Arab Emirates', 1), ('J1 League/Liga NOS', 1), ('Série B/Série A', 1), ('Eliteserien/Süper Lig', 1), ('2.Bundesliga/Ligue 1', 1), ('MLS/Premiership', 1), (' Ecuador/LaLiga', 1), ('J2 League/J1 League', 1), ('Série B/Super League', 1), (' Qatar/Serie A', 1), ('LaLiga2/ United Arab Emirates', 1), ('Serie B/Premier Liga', 1), ('1.Bundesliga/Professional League', 1), ('Torneo Final/ United Arab Emirates', 1), (' United Arab Emirates/ United Arab Emirates', 1), ('Premiership/Championship', 1), (' Brazil/Liga MX Clausura', 1), ('Série A/Jupiler Pro League', 1), ('Primera B Nacional/Championship', 1), ('Primera División/ United Arab Emirates', 1), ('Liga NOS/Super League', 1), ('Eliteserien/Ligue 1', 1), ('Premier Liga/ Qatar', 1), ('Süper Lig/ Qatar', 1), ('Ligue 1/ United Arab Emirates', 1), ('LaLiga/Série A', 1), ('Primavera B/Serie A', 1), (' United Arab Emirates/Série A', 1), ('HET Liga/Premier League', 1), ('2ª B - Grupo I/Liga NOS', 1), ('1.Bundesliga/ United Arab Emirates', 1), ('Liga 1/Süper Lig', 1), ('Bundesliga/Premiership', 1), ('LaLiga/Jupiler Pro League', 1), ('SuperLiga/Super League', 1), ('HET Liga/Serie A', 1), ('Primavera B/Primavera B', 1), (' Spain/ Portugal', 1), ('Ekstraklasa/Eredivisie', 1), ('3.Liga/1.Bundesliga', 1), ('Torneo Final/Süper Lig', 1), (' Brazil/Bundesliga', 1), ('Liga Águila II/Torneo Final', 1), (' Russia/Série A', 1), ('Segunda División/Liga NOS', 1), ('Professional League/Série A', 1), (' Russia/Stars League', 1), ('Jupiler Pro League/Ligue 2', 1), ('Ekstraklasa/Süper Lig', 1), ('Eredivisie/ Russia', 1), ('LaLiga/Professional League', 1), ('Süper Lig/ United Arab Emirates', 1), ('Bundesliga/Ligue 2', 1), ('Primera B Nacional/LaLiga', 1), ('Professional League/ United Arab Emirates', 1), ('Torneo Final/Ligue 2', 1), ('LaLiga2/Stars League', 1), ('2.Bundesliga/Premier Liga', 1), ('Stars League/Série A', 1), ('Liga NOS/Professional League', 1), (' Brazil/Série A', 1), ('Professional League/LaLiga', 1), (' Brazil/UAE Gulf League', 1), ('Ligue I Pro/Stars League', 1), ('Ligue 2/Ligue 2', 1), ('Ligue 1/Ligue 2', 1), ('Liga Águila II/Serie A', 1), ('Championnat National/Bundesliga', 1), ('Liga MX Clausura/Stars League', 1), ('Championship/Premier Liga', 1), ('SuperLiga/Liga NOS', 1), ('LaLiga/UAE Gulf League', 1), ('Stars League/Stars League', 1), ('Serie A/MLS', 1), (' Brazil/Super League', 1), ('SuperLiga/Jupiler Pro League', 1), ('Korean FA Cup/UAE Gulf League', 1), (' France/Ligue 1', 1), ('Serie A/Liga MX Clausura', 1), ('Liga MX Clausura/Torneo Final', 1), ('UAE Gulf League/Série A', 1), ('Bundesliga/Premier League', 1), ('Série A/UAE Gulf League', 1), ('Serie B/Stars League', 1), ('Torneo Inicial/UAE Gulf League', 1), ('Bundesliga/2.Bundesliga', 1), ('Serie A/UAE Gulf League', 1), ('Championship/Stars League', 1), ('Liga NOS/Jupiler Pro League', 1), ('Jupiler Pro League/2.Bundesliga', 1), ('1.HNL/LaLiga2', 1), ('Championship/Super League', 1), ('Serie A Segunda Etapa/Liga MX Clausura', 1), ('UAE Gulf League/Ligue 1', 1), ('Série B/Liga NOS', 1), ('Primera División/Liga MX Clausura', 1), ('Liga Águila II/Liga MX Clausura', 1), ('1.Division/Premier Liga', 1), ('Süper Lig/UAE Gulf League', 1), ('Primera División/Segunda División - Segunda Fase', 1), ('Série A/League One', 1), ('Professional League/UAE Gulf League', 1), ('2ª B - Grupo III/Premier League', 1), ('1.Bundesliga/2.Bundesliga', 1), ('1.HNL/Premiership', 1), ('Liga NOS/UAE Gulf League', 1), ('1.Bundesliga/UAE Gulf League', 1), ('SuperLiga/Ledman Liga Pro', 1), ('Serie A/Primera División', 1), ('LaLiga/MLS', 1), ('Süper Lig/2.Bundesliga', 1), ('Rel. Ligue 1/Premier League', 1), ('UAE Gulf League/Premier League', 1), ('Rel. Ligue 1/1.Bundesliga', 1), ('Série A/Eredivisie', 1), ('1.Bundesliga/Liga NOS', 1), ('Stars League/Premier Liga', 1), ('2.Bundesliga/Serie A', 1), ('HET Liga/Super League', 1), ('Liga 1 - Championship group/Jupiler Pro League', 1), ('Ligue 1/Liga MX Clausura', 1), (\"Ligat ha'Al/Super League\", 1), ('Championship/Liga NOS', 1), ('Liga Águila II/League One', 1), ('Primera División/ Uruguay', 1), ('Süper Lig/Liga NOS', 1), ('2.Bundesliga/LaLiga', 1), ('Série A/J1 League', 1), ('Primera División/Liga NOS', 1), ('Bundesliga/Premier Liga', 1), ('U18 Premier League/1.Bundesliga', 1), ('Superligaen Championship round/Premier League', 1), ('A Grupa - Championship gr./Ligue 1', 1), ('Jupiler Pro League/Super League', 1), ('2.Bundesliga/Super League', 1), ('Liga MX Apertura/Professional League', 1), (' Canada/1.Bundesliga', 1), ('Premier League/Professional League', 1), ('Proximus League/Eredivisie', 1), ('League One/Ligue 1', 1), ('Liga MX Apertura/LaLiga', 1), ('Liga MX Apertura/Liga NOS', 1), ('Liga MX Apertura/MLS', 1), ('Ligue 1/LaLiga2', 1), ('Ligue 2/Liga NOS', 1), ('Serie B/UAE Gulf League', 1), ('Botola Pro/Super League', 1), ('Ligue 2/Serie A', 1), ('Liga NOS/MLS', 1), ('League One/Serie A', 1), ('Série B/Premier League', 1), ('Liga MX Apertura/Primera División', 1), ('Serie A/Liga MX Apertura', 1), ('Liga NOS/J1 League', 1)]\n"
          ],
          "name": "stdout"
        }
      ]
    },
    {
      "cell_type": "code",
      "metadata": {
        "id": "Bt_KkKDagk8u"
      },
      "source": [
        "lis = []\n",
        "lis2 = []\n",
        "for i in range(0,10):\n",
        "  lis.append(sorted_d[i][0])\n",
        "  lis2.append(sorted_d[i][1])"
      ],
      "execution_count": 19,
      "outputs": []
    },
    {
      "cell_type": "code",
      "metadata": {
        "id": "mStWWBUChQ7u"
      },
      "source": [
        "league_transfer = pd.DataFrame()\n",
        "league_transfer['League-to-League'] = lis\n",
        "league_transfer['No.-of-Transfers'] = lis2"
      ],
      "execution_count": 20,
      "outputs": []
    },
    {
      "cell_type": "code",
      "metadata": {
        "colab": {
          "base_uri": "https://localhost:8080/",
          "height": 356
        },
        "id": "eKOYuz3LhqIf",
        "outputId": "42731b08-2f2e-4048-bf4b-d26137b57289"
      },
      "source": [
        "league_transfer"
      ],
      "execution_count": 21,
      "outputs": [
        {
          "output_type": "execute_result",
          "data": {
            "text/html": [
              "<div>\n",
              "<style scoped>\n",
              "    .dataframe tbody tr th:only-of-type {\n",
              "        vertical-align: middle;\n",
              "    }\n",
              "\n",
              "    .dataframe tbody tr th {\n",
              "        vertical-align: top;\n",
              "    }\n",
              "\n",
              "    .dataframe thead th {\n",
              "        text-align: right;\n",
              "    }\n",
              "</style>\n",
              "<table border=\"1\" class=\"dataframe\">\n",
              "  <thead>\n",
              "    <tr style=\"text-align: right;\">\n",
              "      <th></th>\n",
              "      <th>League-to-League</th>\n",
              "      <th>No.-of-Transfers</th>\n",
              "    </tr>\n",
              "  </thead>\n",
              "  <tbody>\n",
              "    <tr>\n",
              "      <th>0</th>\n",
              "      <td>Premier League/Premier League</td>\n",
              "      <td>374</td>\n",
              "    </tr>\n",
              "    <tr>\n",
              "      <th>1</th>\n",
              "      <td>Serie A/Serie A</td>\n",
              "      <td>359</td>\n",
              "    </tr>\n",
              "    <tr>\n",
              "      <th>2</th>\n",
              "      <td>Ligue 1/Ligue 1</td>\n",
              "      <td>159</td>\n",
              "    </tr>\n",
              "    <tr>\n",
              "      <th>3</th>\n",
              "      <td>Championship/Premier League</td>\n",
              "      <td>151</td>\n",
              "    </tr>\n",
              "    <tr>\n",
              "      <th>4</th>\n",
              "      <td>LaLiga/LaLiga</td>\n",
              "      <td>147</td>\n",
              "    </tr>\n",
              "    <tr>\n",
              "      <th>5</th>\n",
              "      <td>1.Bundesliga/1.Bundesliga</td>\n",
              "      <td>136</td>\n",
              "    </tr>\n",
              "    <tr>\n",
              "      <th>6</th>\n",
              "      <td>Ligue 1/Premier League</td>\n",
              "      <td>125</td>\n",
              "    </tr>\n",
              "    <tr>\n",
              "      <th>7</th>\n",
              "      <td>LaLiga/Premier League</td>\n",
              "      <td>98</td>\n",
              "    </tr>\n",
              "    <tr>\n",
              "      <th>8</th>\n",
              "      <td>Premier Liga/Premier Liga</td>\n",
              "      <td>76</td>\n",
              "    </tr>\n",
              "    <tr>\n",
              "      <th>9</th>\n",
              "      <td>Serie B/Serie A</td>\n",
              "      <td>74</td>\n",
              "    </tr>\n",
              "  </tbody>\n",
              "</table>\n",
              "</div>"
            ],
            "text/plain": [
              "                League-to-League  No.-of-Transfers\n",
              "0  Premier League/Premier League               374\n",
              "1                Serie A/Serie A               359\n",
              "2                Ligue 1/Ligue 1               159\n",
              "3    Championship/Premier League               151\n",
              "4                  LaLiga/LaLiga               147\n",
              "5      1.Bundesliga/1.Bundesliga               136\n",
              "6         Ligue 1/Premier League               125\n",
              "7          LaLiga/Premier League                98\n",
              "8      Premier Liga/Premier Liga                76\n",
              "9                Serie B/Serie A                74"
            ]
          },
          "metadata": {},
          "execution_count": 21
        }
      ]
    },
    {
      "cell_type": "markdown",
      "metadata": {
        "id": "Q3FKPg3iNbRM"
      },
      "source": [
        "# Top 10 players with highest market value"
      ]
    },
    {
      "cell_type": "code",
      "metadata": {
        "id": "RSTZWWInhrjV"
      },
      "source": [
        "h_mv = df[['Name','Market_value']]"
      ],
      "execution_count": 22,
      "outputs": []
    },
    {
      "cell_type": "code",
      "metadata": {
        "id": "Fg_QYWhkOj59"
      },
      "source": [
        "a = pd.DataFrame()\n",
        "a['Value'] = h_mv['Market_value'].sort_values(ascending=False).head(10)"
      ],
      "execution_count": 23,
      "outputs": []
    },
    {
      "cell_type": "code",
      "metadata": {
        "colab": {
          "base_uri": "https://localhost:8080/",
          "height": 356
        },
        "id": "vpMniVDySnDE",
        "outputId": "83a3119a-7db0-4fda-833f-542c09ff7a26"
      },
      "source": [
        "a"
      ],
      "execution_count": 24,
      "outputs": [
        {
          "output_type": "execute_result",
          "data": {
            "text/html": [
              "<div>\n",
              "<style scoped>\n",
              "    .dataframe tbody tr th:only-of-type {\n",
              "        vertical-align: middle;\n",
              "    }\n",
              "\n",
              "    .dataframe tbody tr th {\n",
              "        vertical-align: top;\n",
              "    }\n",
              "\n",
              "    .dataframe thead th {\n",
              "        text-align: right;\n",
              "    }\n",
              "</style>\n",
              "<table border=\"1\" class=\"dataframe\">\n",
              "  <thead>\n",
              "    <tr style=\"text-align: right;\">\n",
              "      <th></th>\n",
              "      <th>Value</th>\n",
              "    </tr>\n",
              "  </thead>\n",
              "  <tbody>\n",
              "    <tr>\n",
              "      <th>4455</th>\n",
              "      <td>120000000.0</td>\n",
              "    </tr>\n",
              "    <tr>\n",
              "      <th>4211</th>\n",
              "      <td>100000000.0</td>\n",
              "    </tr>\n",
              "    <tr>\n",
              "      <th>4456</th>\n",
              "      <td>100000000.0</td>\n",
              "    </tr>\n",
              "    <tr>\n",
              "      <th>4212</th>\n",
              "      <td>90000000.0</td>\n",
              "    </tr>\n",
              "    <tr>\n",
              "      <th>3961</th>\n",
              "      <td>70000000.0</td>\n",
              "    </tr>\n",
              "    <tr>\n",
              "      <th>4219</th>\n",
              "      <td>65000000.0</td>\n",
              "    </tr>\n",
              "    <tr>\n",
              "      <th>3962</th>\n",
              "      <td>65000000.0</td>\n",
              "    </tr>\n",
              "    <tr>\n",
              "      <th>4457</th>\n",
              "      <td>65000000.0</td>\n",
              "    </tr>\n",
              "    <tr>\n",
              "      <th>4460</th>\n",
              "      <td>65000000.0</td>\n",
              "    </tr>\n",
              "    <tr>\n",
              "      <th>3217</th>\n",
              "      <td>65000000.0</td>\n",
              "    </tr>\n",
              "  </tbody>\n",
              "</table>\n",
              "</div>"
            ],
            "text/plain": [
              "            Value\n",
              "4455  120000000.0\n",
              "4211  100000000.0\n",
              "4456  100000000.0\n",
              "4212   90000000.0\n",
              "3961   70000000.0\n",
              "4219   65000000.0\n",
              "3962   65000000.0\n",
              "4457   65000000.0\n",
              "4460   65000000.0\n",
              "3217   65000000.0"
            ]
          },
          "metadata": {},
          "execution_count": 24
        }
      ]
    },
    {
      "cell_type": "code",
      "metadata": {
        "id": "84KMCATmTMfK"
      },
      "source": [
        "lis2 = []\n",
        "for i in range(0,len(a)):\n",
        "  lis2.append(a.iloc[i,0])"
      ],
      "execution_count": 25,
      "outputs": []
    },
    {
      "cell_type": "code",
      "metadata": {
        "colab": {
          "base_uri": "https://localhost:8080/"
        },
        "id": "IM7pWnOsTk2P",
        "outputId": "a12137ac-b721-409a-f1ad-d61e43cfb444"
      },
      "source": [
        "lis2"
      ],
      "execution_count": 26,
      "outputs": [
        {
          "output_type": "execute_result",
          "data": {
            "text/plain": [
              "[120000000.0,\n",
              " 100000000.0,\n",
              " 100000000.0,\n",
              " 90000000.0,\n",
              " 70000000.0,\n",
              " 65000000.0,\n",
              " 65000000.0,\n",
              " 65000000.0,\n",
              " 65000000.0,\n",
              " 65000000.0]"
            ]
          },
          "metadata": {},
          "execution_count": 26
        }
      ]
    },
    {
      "cell_type": "code",
      "metadata": {
        "colab": {
          "base_uri": "https://localhost:8080/"
        },
        "id": "ra7B3GZVO5Ki",
        "outputId": "12c39a1d-edb7-4f79-ebf4-aeda6eb556a9"
      },
      "source": [
        "index = a['Value'].index\n",
        "index"
      ],
      "execution_count": 27,
      "outputs": [
        {
          "output_type": "execute_result",
          "data": {
            "text/plain": [
              "Int64Index([4455, 4211, 4456, 4212, 3961, 4219, 3962, 4457, 4460, 3217], dtype='int64')"
            ]
          },
          "metadata": {},
          "execution_count": 27
        }
      ]
    },
    {
      "cell_type": "code",
      "metadata": {
        "colab": {
          "base_uri": "https://localhost:8080/"
        },
        "id": "vzU6VRk4O-IJ",
        "outputId": "b4c44892-4dbd-4df8-d4ff-a01ebfed8fa4"
      },
      "source": [
        "lis = []\n",
        "for i in index:\n",
        "  b = h_mv.iloc[i,0]\n",
        "  lis.append(b)\n",
        "lis"
      ],
      "execution_count": 28,
      "outputs": [
        {
          "output_type": "execute_result",
          "data": {
            "text/plain": [
              "['Kylian Mbappé',\n",
              " 'Neymar',\n",
              " 'Cristiano Ronaldo',\n",
              " 'Philippe Coutinho',\n",
              " 'Paul Pogba',\n",
              " 'Pierre-Emerick Aubameyang',\n",
              " 'Gonzalo Higuaín',\n",
              " 'Thomas Lemar',\n",
              " 'Naby Keïta',\n",
              " 'Gareth Bale']"
            ]
          },
          "metadata": {},
          "execution_count": 28
        }
      ]
    },
    {
      "cell_type": "code",
      "metadata": {
        "id": "vj9GxaPJSCvc"
      },
      "source": [
        "new_h_mv = pd.DataFrame(lis,columns =['Name'])"
      ],
      "execution_count": 29,
      "outputs": []
    },
    {
      "cell_type": "code",
      "metadata": {
        "id": "t6KqstFZSdBp"
      },
      "source": [
        "new_h_mv['Value'] = lis2"
      ],
      "execution_count": 30,
      "outputs": []
    },
    {
      "cell_type": "code",
      "metadata": {
        "colab": {
          "base_uri": "https://localhost:8080/",
          "height": 356
        },
        "id": "NbQ8aDpUSd6R",
        "outputId": "104ac8de-bcb1-4b1c-9bc4-d97d6a06bc24"
      },
      "source": [
        "new_h_mv"
      ],
      "execution_count": 31,
      "outputs": [
        {
          "output_type": "execute_result",
          "data": {
            "text/html": [
              "<div>\n",
              "<style scoped>\n",
              "    .dataframe tbody tr th:only-of-type {\n",
              "        vertical-align: middle;\n",
              "    }\n",
              "\n",
              "    .dataframe tbody tr th {\n",
              "        vertical-align: top;\n",
              "    }\n",
              "\n",
              "    .dataframe thead th {\n",
              "        text-align: right;\n",
              "    }\n",
              "</style>\n",
              "<table border=\"1\" class=\"dataframe\">\n",
              "  <thead>\n",
              "    <tr style=\"text-align: right;\">\n",
              "      <th></th>\n",
              "      <th>Name</th>\n",
              "      <th>Value</th>\n",
              "    </tr>\n",
              "  </thead>\n",
              "  <tbody>\n",
              "    <tr>\n",
              "      <th>0</th>\n",
              "      <td>Kylian Mbappé</td>\n",
              "      <td>120000000.0</td>\n",
              "    </tr>\n",
              "    <tr>\n",
              "      <th>1</th>\n",
              "      <td>Neymar</td>\n",
              "      <td>100000000.0</td>\n",
              "    </tr>\n",
              "    <tr>\n",
              "      <th>2</th>\n",
              "      <td>Cristiano Ronaldo</td>\n",
              "      <td>100000000.0</td>\n",
              "    </tr>\n",
              "    <tr>\n",
              "      <th>3</th>\n",
              "      <td>Philippe Coutinho</td>\n",
              "      <td>90000000.0</td>\n",
              "    </tr>\n",
              "    <tr>\n",
              "      <th>4</th>\n",
              "      <td>Paul Pogba</td>\n",
              "      <td>70000000.0</td>\n",
              "    </tr>\n",
              "    <tr>\n",
              "      <th>5</th>\n",
              "      <td>Pierre-Emerick Aubameyang</td>\n",
              "      <td>65000000.0</td>\n",
              "    </tr>\n",
              "    <tr>\n",
              "      <th>6</th>\n",
              "      <td>Gonzalo Higuaín</td>\n",
              "      <td>65000000.0</td>\n",
              "    </tr>\n",
              "    <tr>\n",
              "      <th>7</th>\n",
              "      <td>Thomas Lemar</td>\n",
              "      <td>65000000.0</td>\n",
              "    </tr>\n",
              "    <tr>\n",
              "      <th>8</th>\n",
              "      <td>Naby Keïta</td>\n",
              "      <td>65000000.0</td>\n",
              "    </tr>\n",
              "    <tr>\n",
              "      <th>9</th>\n",
              "      <td>Gareth Bale</td>\n",
              "      <td>65000000.0</td>\n",
              "    </tr>\n",
              "  </tbody>\n",
              "</table>\n",
              "</div>"
            ],
            "text/plain": [
              "                        Name        Value\n",
              "0              Kylian Mbappé  120000000.0\n",
              "1                     Neymar  100000000.0\n",
              "2          Cristiano Ronaldo  100000000.0\n",
              "3          Philippe Coutinho   90000000.0\n",
              "4                 Paul Pogba   70000000.0\n",
              "5  Pierre-Emerick Aubameyang   65000000.0\n",
              "6            Gonzalo Higuaín   65000000.0\n",
              "7               Thomas Lemar   65000000.0\n",
              "8                 Naby Keïta   65000000.0\n",
              "9                Gareth Bale   65000000.0"
            ]
          },
          "metadata": {},
          "execution_count": 31
        }
      ]
    },
    {
      "cell_type": "markdown",
      "metadata": {
        "id": "AL8nQ-W6T8t2"
      },
      "source": [
        "# Top 10 players with highest transfer fee"
      ]
    },
    {
      "cell_type": "code",
      "metadata": {
        "id": "TVBkjVe_SkpY"
      },
      "source": [
        "h_tf = df[['Name','Transfer_fee']]\n",
        "a = pd.DataFrame()\n",
        "a['Fee'] = h_tf['Transfer_fee'].sort_values(ascending=False).head(10)\n",
        "lis2 = []\n",
        "for i in range(0,len(a)):\n",
        "  lis2.append(a.iloc[i,0])\n",
        "index = a['Fee'].index\n",
        "lis = []\n",
        "for i in index:\n",
        "  b = h_tf.iloc[i,0]\n",
        "  lis.append(b)\n",
        "new_h_tf = pd.DataFrame(lis,columns =['Name'])\n",
        "new_h_tf['Fee'] = lis2"
      ],
      "execution_count": 32,
      "outputs": []
    },
    {
      "cell_type": "code",
      "metadata": {
        "colab": {
          "base_uri": "https://localhost:8080/",
          "height": 356
        },
        "id": "5NjPUS8xUi1c",
        "outputId": "6df0a026-4c66-48d2-9b8e-ffdac2ce5195"
      },
      "source": [
        "new_h_tf"
      ],
      "execution_count": 33,
      "outputs": [
        {
          "output_type": "execute_result",
          "data": {
            "text/html": [
              "<div>\n",
              "<style scoped>\n",
              "    .dataframe tbody tr th:only-of-type {\n",
              "        vertical-align: middle;\n",
              "    }\n",
              "\n",
              "    .dataframe tbody tr th {\n",
              "        vertical-align: top;\n",
              "    }\n",
              "\n",
              "    .dataframe thead th {\n",
              "        text-align: right;\n",
              "    }\n",
              "</style>\n",
              "<table border=\"1\" class=\"dataframe\">\n",
              "  <thead>\n",
              "    <tr style=\"text-align: right;\">\n",
              "      <th></th>\n",
              "      <th>Name</th>\n",
              "      <th>Fee</th>\n",
              "    </tr>\n",
              "  </thead>\n",
              "  <tbody>\n",
              "    <tr>\n",
              "      <th>0</th>\n",
              "      <td>Neymar</td>\n",
              "      <td>222000000</td>\n",
              "    </tr>\n",
              "    <tr>\n",
              "      <th>1</th>\n",
              "      <td>Kylian Mbappé</td>\n",
              "      <td>135000000</td>\n",
              "    </tr>\n",
              "    <tr>\n",
              "      <th>2</th>\n",
              "      <td>Philippe Coutinho</td>\n",
              "      <td>125000000</td>\n",
              "    </tr>\n",
              "    <tr>\n",
              "      <th>3</th>\n",
              "      <td>Cristiano Ronaldo</td>\n",
              "      <td>117000000</td>\n",
              "    </tr>\n",
              "    <tr>\n",
              "      <th>4</th>\n",
              "      <td>Ousmane Dembélé</td>\n",
              "      <td>115000000</td>\n",
              "    </tr>\n",
              "    <tr>\n",
              "      <th>5</th>\n",
              "      <td>Paul Pogba</td>\n",
              "      <td>105000000</td>\n",
              "    </tr>\n",
              "    <tr>\n",
              "      <th>6</th>\n",
              "      <td>Gareth Bale</td>\n",
              "      <td>101000000</td>\n",
              "    </tr>\n",
              "    <tr>\n",
              "      <th>7</th>\n",
              "      <td>Cristiano Ronaldo</td>\n",
              "      <td>94000000</td>\n",
              "    </tr>\n",
              "    <tr>\n",
              "      <th>8</th>\n",
              "      <td>Gonzalo Higuaín</td>\n",
              "      <td>90000000</td>\n",
              "    </tr>\n",
              "    <tr>\n",
              "      <th>9</th>\n",
              "      <td>Neymar</td>\n",
              "      <td>88200000</td>\n",
              "    </tr>\n",
              "  </tbody>\n",
              "</table>\n",
              "</div>"
            ],
            "text/plain": [
              "                Name        Fee\n",
              "0             Neymar  222000000\n",
              "1      Kylian Mbappé  135000000\n",
              "2  Philippe Coutinho  125000000\n",
              "3  Cristiano Ronaldo  117000000\n",
              "4    Ousmane Dembélé  115000000\n",
              "5         Paul Pogba  105000000\n",
              "6        Gareth Bale  101000000\n",
              "7  Cristiano Ronaldo   94000000\n",
              "8    Gonzalo Higuaín   90000000\n",
              "9             Neymar   88200000"
            ]
          },
          "metadata": {},
          "execution_count": 33
        }
      ]
    },
    {
      "cell_type": "markdown",
      "metadata": {
        "id": "1qcbC2spUu1t"
      },
      "source": [
        "# Teams that spent the most on transfer"
      ]
    },
    {
      "cell_type": "code",
      "metadata": {
        "colab": {
          "base_uri": "https://localhost:8080/",
          "height": 380
        },
        "id": "ZX8GNSEiUkSL",
        "outputId": "03bba878-00a1-479e-eca3-f9c53bfb1391"
      },
      "source": [
        "plt.figure(figsize=(15,15))\n",
        "most_spent = df[['Team_to','Transfer_fee']]\n",
        "most_spent.groupby('Team_to')[['Transfer_fee']].sum().sort_values(ascending=False,by='Transfer_fee').head(10).plot(kind='bar')\n",
        "plt.xlabel('Teams that spent the most on transfer')\n",
        "plt.legend()"
      ],
      "execution_count": 53,
      "outputs": [
        {
          "output_type": "execute_result",
          "data": {
            "text/plain": [
              "<matplotlib.legend.Legend at 0x7f5971325b50>"
            ]
          },
          "metadata": {},
          "execution_count": 53
        },
        {
          "output_type": "display_data",
          "data": {
            "text/plain": [
              "<Figure size 1080x1080 with 0 Axes>"
            ]
          },
          "metadata": {}
        },
        {
          "output_type": "display_data",
          "data": {
            "image/png": "[encoded data removed]",
            "text/plain": [
              "<Figure size 432x288 with 1 Axes>"
            ]
          },
          "metadata": {
            "needs_background": "light"
          }
        }
      ]
    }
  ]
}