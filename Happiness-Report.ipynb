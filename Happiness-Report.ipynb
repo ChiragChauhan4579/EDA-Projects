{
 "cells": [
  {
   "cell_type": "markdown",
   "id": "superb-shark",
   "metadata": {},
   "source": [
    "# EDA on world happiness report 2021"
   ]
  },
  {
   "cell_type": "markdown",
   "id": "descending-fashion",
   "metadata": {},
   "source": [
    "### Importing the libraries"
   ]
  },
  {
   "cell_type": "code",
   "execution_count": 1,
   "id": "collect-london",
   "metadata": {},
   "outputs": [
    {
     "name": "stderr",
     "output_type": "stream",
     "text": [
      "C:\\Temp\\Anaconda3\\lib\\site-packages\\numpy\\_distributor_init.py:32: UserWarning: loaded more than 1 DLL from .libs:\n",
      "C:\\Temp\\Anaconda3\\lib\\site-packages\\numpy\\.libs\\libopenblas.NOIJJG62EMASZI6NYURL6JBKM4EVBGM7.gfortran-win_amd64.dll\n",
      "C:\\Temp\\Anaconda3\\lib\\site-packages\\numpy\\.libs\\libopenblas.WCDJNK7YVMPZQ2ME2ZZHJJRJ3JIKNDB7.gfortran-win_amd64.dll\n",
      "  stacklevel=1)\n"
     ]
    }
   ],
   "source": [
    "import numpy as np\n",
    "import pandas as pd\n",
    "import matplotlib.pyplot as plt\n",
    "import seaborn as sbn \n",
    "import plotly.graph_objs as go\n",
    "import plotly.express as px"
   ]
  },
  {
   "cell_type": "markdown",
   "id": "guilty-friday",
   "metadata": {},
   "source": [
    "### Reading the dataset and customizing according to the needs"
   ]
  },
  {
   "cell_type": "markdown",
   "id": "upper-swiss",
   "metadata": {},
   "source": [
    "Here I haved dropped the columns of the imaginary land called dystopia(taken for refenrence). I would be focusing on the real world data. I have changed columns name to make it easy to understand.<br>\n",
    "Changed column names:-<br>\n",
    "Country name:- Country<br>\n",
    "Regional indicator:- Region<br> \n",
    "Ladder score:- Score<br>\n",
    "Logged GDP per capita:- GDP(log)<br>\n",
    "Freedom to make life choices:- Freedom<br>\n",
    "Perceptions of corruption:- Corruption<br>\n",
    "Healthy life expectancy:- Health<br>\n",
    "Social support:- Support"
   ]
  },
  {
   "cell_type": "code",
   "execution_count": 2,
   "id": "general-trailer",
   "metadata": {},
   "outputs": [
    {
     "data": {
      "text/html": [
       "<div>\n",
       "<style scoped>\n",
       "    .dataframe tbody tr th:only-of-type {\n",
       "        vertical-align: middle;\n",
       "    }\n",
       "\n",
       "    .dataframe tbody tr th {\n",
       "        vertical-align: top;\n",
       "    }\n",
       "\n",
       "    .dataframe thead th {\n",
       "        text-align: right;\n",
       "    }\n",
       "</style>\n",
       "<table border=\"1\" class=\"dataframe\">\n",
       "  <thead>\n",
       "    <tr style=\"text-align: right;\">\n",
       "      <th></th>\n",
       "      <th>Country</th>\n",
       "      <th>Region</th>\n",
       "      <th>Score</th>\n",
       "      <th>GDP(log)</th>\n",
       "      <th>Support</th>\n",
       "      <th>Health</th>\n",
       "      <th>Freedom</th>\n",
       "      <th>Generosity</th>\n",
       "      <th>Corruption</th>\n",
       "    </tr>\n",
       "  </thead>\n",
       "  <tbody>\n",
       "    <tr>\n",
       "      <th>0</th>\n",
       "      <td>Finland</td>\n",
       "      <td>Western Europe</td>\n",
       "      <td>7.842</td>\n",
       "      <td>10.775</td>\n",
       "      <td>0.954</td>\n",
       "      <td>72.0</td>\n",
       "      <td>0.949</td>\n",
       "      <td>-0.098</td>\n",
       "      <td>0.186</td>\n",
       "    </tr>\n",
       "    <tr>\n",
       "      <th>1</th>\n",
       "      <td>Denmark</td>\n",
       "      <td>Western Europe</td>\n",
       "      <td>7.620</td>\n",
       "      <td>10.933</td>\n",
       "      <td>0.954</td>\n",
       "      <td>72.7</td>\n",
       "      <td>0.946</td>\n",
       "      <td>0.030</td>\n",
       "      <td>0.179</td>\n",
       "    </tr>\n",
       "    <tr>\n",
       "      <th>2</th>\n",
       "      <td>Switzerland</td>\n",
       "      <td>Western Europe</td>\n",
       "      <td>7.571</td>\n",
       "      <td>11.117</td>\n",
       "      <td>0.942</td>\n",
       "      <td>74.4</td>\n",
       "      <td>0.919</td>\n",
       "      <td>0.025</td>\n",
       "      <td>0.292</td>\n",
       "    </tr>\n",
       "    <tr>\n",
       "      <th>3</th>\n",
       "      <td>Iceland</td>\n",
       "      <td>Western Europe</td>\n",
       "      <td>7.554</td>\n",
       "      <td>10.878</td>\n",
       "      <td>0.983</td>\n",
       "      <td>73.0</td>\n",
       "      <td>0.955</td>\n",
       "      <td>0.160</td>\n",
       "      <td>0.673</td>\n",
       "    </tr>\n",
       "    <tr>\n",
       "      <th>4</th>\n",
       "      <td>Netherlands</td>\n",
       "      <td>Western Europe</td>\n",
       "      <td>7.464</td>\n",
       "      <td>10.932</td>\n",
       "      <td>0.942</td>\n",
       "      <td>72.4</td>\n",
       "      <td>0.913</td>\n",
       "      <td>0.175</td>\n",
       "      <td>0.338</td>\n",
       "    </tr>\n",
       "  </tbody>\n",
       "</table>\n",
       "</div>"
      ],
      "text/plain": [
       "       Country          Region  Score  GDP(log)  Support  Health  Freedom  \\\n",
       "0      Finland  Western Europe  7.842    10.775    0.954    72.0    0.949   \n",
       "1      Denmark  Western Europe  7.620    10.933    0.954    72.7    0.946   \n",
       "2  Switzerland  Western Europe  7.571    11.117    0.942    74.4    0.919   \n",
       "3      Iceland  Western Europe  7.554    10.878    0.983    73.0    0.955   \n",
       "4  Netherlands  Western Europe  7.464    10.932    0.942    72.4    0.913   \n",
       "\n",
       "   Generosity  Corruption  \n",
       "0      -0.098       0.186  \n",
       "1       0.030       0.179  \n",
       "2       0.025       0.292  \n",
       "3       0.160       0.673  \n",
       "4       0.175       0.338  "
      ]
     },
     "execution_count": 2,
     "metadata": {},
     "output_type": "execute_result"
    }
   ],
   "source": [
    "df = pd.read_csv('report.csv')\n",
    "df = df.iloc[:,0:12]\n",
    "df = df.drop(columns=['Standard error of ladder score','upperwhisker','lowerwhisker'],axis=1)\n",
    "df = df.rename(columns = {'Country name':'Country',\n",
    "                          'Regional indicator': 'Region', \n",
    "                          'Ladder score': 'Score',\n",
    "                          'Logged GDP per capita':'GDP(log)',\n",
    "                          'Freedom to make life choices':'Freedom',\n",
    "                          'Perceptions of corruption':'Corruption',\n",
    "                          'Healthy life expectancy':'Health',\n",
    "                          'Social support':'Support'})\n",
    "df.head()"
   ]
  },
  {
   "cell_type": "code",
   "execution_count": 3,
   "id": "binding-pierre",
   "metadata": {},
   "outputs": [
    {
     "name": "stdout",
     "output_type": "stream",
     "text": [
      "There are 149 rows and 9 columns in our data\n"
     ]
    }
   ],
   "source": [
    "print(f\"There are {df.shape[0]} rows and {df.shape[1]} columns in our data\")"
   ]
  },
  {
   "cell_type": "code",
   "execution_count": 4,
   "id": "significant-bridal",
   "metadata": {},
   "outputs": [
    {
     "data": {
      "text/plain": [
       "Country       0\n",
       "Region        0\n",
       "Score         0\n",
       "GDP(log)      0\n",
       "Support       0\n",
       "Health        0\n",
       "Freedom       0\n",
       "Generosity    0\n",
       "Corruption    0\n",
       "dtype: int64"
      ]
     },
     "execution_count": 4,
     "metadata": {},
     "output_type": "execute_result"
    }
   ],
   "source": [
    "#Checking if there are any null values\n",
    "df.isnull().sum()"
   ]
  },
  {
   "cell_type": "code",
   "execution_count": 5,
   "id": "veterinary-appliance",
   "metadata": {},
   "outputs": [
    {
     "name": "stdout",
     "output_type": "stream",
     "text": [
      "<class 'pandas.core.frame.DataFrame'>\n",
      "RangeIndex: 149 entries, 0 to 148\n",
      "Data columns (total 9 columns):\n",
      " #   Column      Non-Null Count  Dtype  \n",
      "---  ------      --------------  -----  \n",
      " 0   Country     149 non-null    object \n",
      " 1   Region      149 non-null    object \n",
      " 2   Score       149 non-null    float64\n",
      " 3   GDP(log)    149 non-null    float64\n",
      " 4   Support     149 non-null    float64\n",
      " 5   Health      149 non-null    float64\n",
      " 6   Freedom     149 non-null    float64\n",
      " 7   Generosity  149 non-null    float64\n",
      " 8   Corruption  149 non-null    float64\n",
      "dtypes: float64(7), object(2)\n",
      "memory usage: 10.6+ KB\n"
     ]
    }
   ],
   "source": [
    "df.info()"
   ]
  },
  {
   "cell_type": "code",
   "execution_count": 6,
   "id": "demonstrated-spine",
   "metadata": {},
   "outputs": [
    {
     "data": {
      "text/html": [
       "<div>\n",
       "<style scoped>\n",
       "    .dataframe tbody tr th:only-of-type {\n",
       "        vertical-align: middle;\n",
       "    }\n",
       "\n",
       "    .dataframe tbody tr th {\n",
       "        vertical-align: top;\n",
       "    }\n",
       "\n",
       "    .dataframe thead th {\n",
       "        text-align: right;\n",
       "    }\n",
       "</style>\n",
       "<table border=\"1\" class=\"dataframe\">\n",
       "  <thead>\n",
       "    <tr style=\"text-align: right;\">\n",
       "      <th></th>\n",
       "      <th>Score</th>\n",
       "      <th>GDP(log)</th>\n",
       "      <th>Support</th>\n",
       "      <th>Health</th>\n",
       "      <th>Freedom</th>\n",
       "      <th>Generosity</th>\n",
       "      <th>Corruption</th>\n",
       "    </tr>\n",
       "  </thead>\n",
       "  <tbody>\n",
       "    <tr>\n",
       "      <th>count</th>\n",
       "      <td>149.000000</td>\n",
       "      <td>149.000000</td>\n",
       "      <td>149.000000</td>\n",
       "      <td>149.000000</td>\n",
       "      <td>149.000000</td>\n",
       "      <td>149.000000</td>\n",
       "      <td>149.000000</td>\n",
       "    </tr>\n",
       "    <tr>\n",
       "      <th>mean</th>\n",
       "      <td>5.532839</td>\n",
       "      <td>9.432208</td>\n",
       "      <td>0.814745</td>\n",
       "      <td>64.992799</td>\n",
       "      <td>0.791597</td>\n",
       "      <td>-0.015134</td>\n",
       "      <td>0.727450</td>\n",
       "    </tr>\n",
       "    <tr>\n",
       "      <th>std</th>\n",
       "      <td>1.073924</td>\n",
       "      <td>1.158601</td>\n",
       "      <td>0.114889</td>\n",
       "      <td>6.762043</td>\n",
       "      <td>0.113332</td>\n",
       "      <td>0.150657</td>\n",
       "      <td>0.179226</td>\n",
       "    </tr>\n",
       "    <tr>\n",
       "      <th>min</th>\n",
       "      <td>2.523000</td>\n",
       "      <td>6.635000</td>\n",
       "      <td>0.463000</td>\n",
       "      <td>48.478000</td>\n",
       "      <td>0.382000</td>\n",
       "      <td>-0.288000</td>\n",
       "      <td>0.082000</td>\n",
       "    </tr>\n",
       "    <tr>\n",
       "      <th>25%</th>\n",
       "      <td>4.852000</td>\n",
       "      <td>8.541000</td>\n",
       "      <td>0.750000</td>\n",
       "      <td>59.802000</td>\n",
       "      <td>0.718000</td>\n",
       "      <td>-0.126000</td>\n",
       "      <td>0.667000</td>\n",
       "    </tr>\n",
       "    <tr>\n",
       "      <th>50%</th>\n",
       "      <td>5.534000</td>\n",
       "      <td>9.569000</td>\n",
       "      <td>0.832000</td>\n",
       "      <td>66.603000</td>\n",
       "      <td>0.804000</td>\n",
       "      <td>-0.036000</td>\n",
       "      <td>0.781000</td>\n",
       "    </tr>\n",
       "    <tr>\n",
       "      <th>75%</th>\n",
       "      <td>6.255000</td>\n",
       "      <td>10.421000</td>\n",
       "      <td>0.905000</td>\n",
       "      <td>69.600000</td>\n",
       "      <td>0.877000</td>\n",
       "      <td>0.079000</td>\n",
       "      <td>0.845000</td>\n",
       "    </tr>\n",
       "    <tr>\n",
       "      <th>max</th>\n",
       "      <td>7.842000</td>\n",
       "      <td>11.647000</td>\n",
       "      <td>0.983000</td>\n",
       "      <td>76.953000</td>\n",
       "      <td>0.970000</td>\n",
       "      <td>0.542000</td>\n",
       "      <td>0.939000</td>\n",
       "    </tr>\n",
       "  </tbody>\n",
       "</table>\n",
       "</div>"
      ],
      "text/plain": [
       "            Score    GDP(log)     Support      Health     Freedom  Generosity  \\\n",
       "count  149.000000  149.000000  149.000000  149.000000  149.000000  149.000000   \n",
       "mean     5.532839    9.432208    0.814745   64.992799    0.791597   -0.015134   \n",
       "std      1.073924    1.158601    0.114889    6.762043    0.113332    0.150657   \n",
       "min      2.523000    6.635000    0.463000   48.478000    0.382000   -0.288000   \n",
       "25%      4.852000    8.541000    0.750000   59.802000    0.718000   -0.126000   \n",
       "50%      5.534000    9.569000    0.832000   66.603000    0.804000   -0.036000   \n",
       "75%      6.255000   10.421000    0.905000   69.600000    0.877000    0.079000   \n",
       "max      7.842000   11.647000    0.983000   76.953000    0.970000    0.542000   \n",
       "\n",
       "       Corruption  \n",
       "count  149.000000  \n",
       "mean     0.727450  \n",
       "std      0.179226  \n",
       "min      0.082000  \n",
       "25%      0.667000  \n",
       "50%      0.781000  \n",
       "75%      0.845000  \n",
       "max      0.939000  "
      ]
     },
     "execution_count": 6,
     "metadata": {},
     "output_type": "execute_result"
    }
   ],
   "source": [
    "df.describe()"
   ]
  },
  {
   "cell_type": "markdown",
   "id": "quarterly-track",
   "metadata": {},
   "source": [
    "### Plotting correlation matrix"
   ]
  },
  {
   "cell_type": "code",
   "execution_count": 7,
   "id": "elementary-atlas",
   "metadata": {},
   "outputs": [
    {
     "data": {
      "text/plain": [
       "<AxesSubplot:>"
      ]
     },
     "execution_count": 7,
     "metadata": {},
     "output_type": "execute_result"
    },
    {
     "data": {
      "image/png": "[encoded data removed]",
      "text/plain": [
       "<Figure size 720x720 with 2 Axes>"
      ]
     },
     "metadata": {
      "needs_background": "light"
     },
     "output_type": "display_data"
    }
   ],
   "source": [
    "fig, ax = plt.subplots(figsize=(10,10))\n",
    "sbn.heatmap(df.corr(), cmap=\"YlGnBu\", annot=True,ax=ax)"
   ]
  },
  {
   "cell_type": "markdown",
   "id": "iraqi-pantyhose",
   "metadata": {},
   "source": [
    "### Checking how many unique regions are there"
   ]
  },
  {
   "cell_type": "code",
   "execution_count": 8,
   "id": "competitive-foster",
   "metadata": {},
   "outputs": [
    {
     "name": "stdout",
     "output_type": "stream",
     "text": [
      "Regions:\n",
      "Western Europe\n",
      "North America and ANZ\n",
      "Middle East and North Africa\n",
      "Latin America and Caribbean\n",
      "Central and Eastern Europe\n",
      "East Asia\n",
      "Southeast Asia\n",
      "Commonwealth of Independent States\n",
      "Sub-Saharan Africa\n",
      "South Asia\n",
      "\n",
      "Number of regions: 10\n"
     ]
    }
   ],
   "source": [
    "print('Regions:')\n",
    "for i in df['Region'].unique():\n",
    "    print(i)\n",
    "print('\\nNumber of regions:',df['Region'].nunique())"
   ]
  },
  {
   "cell_type": "markdown",
   "id": "genuine-majority",
   "metadata": {},
   "source": [
    "### How many number of countries are there in a region"
   ]
  },
  {
   "cell_type": "code",
   "execution_count": 9,
   "id": "swedish-scotland",
   "metadata": {},
   "outputs": [
    {
     "data": {
      "text/html": [
       "<div>\n",
       "<style scoped>\n",
       "    .dataframe tbody tr th:only-of-type {\n",
       "        vertical-align: middle;\n",
       "    }\n",
       "\n",
       "    .dataframe tbody tr th {\n",
       "        vertical-align: top;\n",
       "    }\n",
       "\n",
       "    .dataframe thead th {\n",
       "        text-align: right;\n",
       "    }\n",
       "</style>\n",
       "<table border=\"1\" class=\"dataframe\">\n",
       "  <thead>\n",
       "    <tr style=\"text-align: right;\">\n",
       "      <th></th>\n",
       "      <th>Country</th>\n",
       "    </tr>\n",
       "    <tr>\n",
       "      <th>Region</th>\n",
       "      <th></th>\n",
       "    </tr>\n",
       "  </thead>\n",
       "  <tbody>\n",
       "    <tr>\n",
       "      <th>Central and Eastern Europe</th>\n",
       "      <td>17</td>\n",
       "    </tr>\n",
       "    <tr>\n",
       "      <th>Commonwealth of Independent States</th>\n",
       "      <td>12</td>\n",
       "    </tr>\n",
       "    <tr>\n",
       "      <th>East Asia</th>\n",
       "      <td>6</td>\n",
       "    </tr>\n",
       "    <tr>\n",
       "      <th>Latin America and Caribbean</th>\n",
       "      <td>20</td>\n",
       "    </tr>\n",
       "    <tr>\n",
       "      <th>Middle East and North Africa</th>\n",
       "      <td>17</td>\n",
       "    </tr>\n",
       "    <tr>\n",
       "      <th>North America and ANZ</th>\n",
       "      <td>4</td>\n",
       "    </tr>\n",
       "    <tr>\n",
       "      <th>South Asia</th>\n",
       "      <td>7</td>\n",
       "    </tr>\n",
       "    <tr>\n",
       "      <th>Southeast Asia</th>\n",
       "      <td>9</td>\n",
       "    </tr>\n",
       "    <tr>\n",
       "      <th>Sub-Saharan Africa</th>\n",
       "      <td>36</td>\n",
       "    </tr>\n",
       "    <tr>\n",
       "      <th>Western Europe</th>\n",
       "      <td>21</td>\n",
       "    </tr>\n",
       "  </tbody>\n",
       "</table>\n",
       "</div>"
      ],
      "text/plain": [
       "                                    Country\n",
       "Region                                     \n",
       "Central and Eastern Europe               17\n",
       "Commonwealth of Independent States       12\n",
       "East Asia                                 6\n",
       "Latin America and Caribbean              20\n",
       "Middle East and North Africa             17\n",
       "North America and ANZ                     4\n",
       "South Asia                                7\n",
       "Southeast Asia                            9\n",
       "Sub-Saharan Africa                       36\n",
       "Western Europe                           21"
      ]
     },
     "execution_count": 9,
     "metadata": {},
     "output_type": "execute_result"
    }
   ],
   "source": [
    "df.groupby('Region')[['Country']].nunique()"
   ]
  },
  {
   "cell_type": "markdown",
   "id": "incredible-honor",
   "metadata": {},
   "source": [
    "### Checking distribution of different columns"
   ]
  },
  {
   "cell_type": "code",
   "execution_count": 10,
   "id": "brown-classification",
   "metadata": {},
   "outputs": [
    {
     "data": {
      "image/png": "[encoded data removed]",
      "text/plain": [
       "<Figure size 1224x936 with 7 Axes>"
      ]
     },
     "metadata": {
      "needs_background": "light"
     },
     "output_type": "display_data"
    }
   ],
   "source": [
    "fig, ax = plt.subplots(3,3,figsize=(17,13))\n",
    "\n",
    "sbn.histplot(df.Score,kde=True,ax=ax[0,0])\n",
    "\n",
    "sbn.histplot(df['GDP(log)'],kde=True,ax=ax[0,1])\n",
    "\n",
    "sbn.histplot(df.Support,kde=True,ax=ax[0,2])\n",
    "\n",
    "sbn.histplot(df.Health,kde=True,ax=ax[1,0])\n",
    "\n",
    "sbn.histplot(df.Freedom,kde=True,ax=ax[1,1])\n",
    "\n",
    "sbn.histplot(df.Generosity,kde=True,ax=ax[1,2])\n",
    "\n",
    "sbn.histplot(df.Corruption,kde=True,ax=ax[2,0])\n",
    "\n",
    "fig.delaxes(ax[2,1])\n",
    "fig.delaxes(ax[2,2])"
   ]
  },
  {
   "cell_type": "markdown",
   "id": "facial-navigation",
   "metadata": {},
   "source": [
    "### Checking score for any country"
   ]
  },
  {
   "cell_type": "code",
   "execution_count": 11,
   "id": "checked-battlefield",
   "metadata": {},
   "outputs": [
    {
     "name": "stdout",
     "output_type": "stream",
     "text": [
      "Give the country name you want to get the score of: India\n",
      "3.819\n"
     ]
    }
   ],
   "source": [
    "def score(Country_name):\n",
    "    for i in range(len(df['Country'])):\n",
    "        if df['Country'].iloc[i] == Country_name:\n",
    "            print(df['Score'][i])\n",
    "\n",
    "name = input('Give the country name you want to get the score of: ')\n",
    "score(name)"
   ]
  },
  {
   "cell_type": "markdown",
   "id": "armed-camcorder",
   "metadata": {},
   "source": [
    "### Getting the top 5 and bottom 5 countries based on their Happiness score i.e. Score"
   ]
  },
  {
   "cell_type": "code",
   "execution_count": 12,
   "id": "mexican-transcription",
   "metadata": {},
   "outputs": [
    {
     "data": {
      "text/html": [
       "<div>\n",
       "<style scoped>\n",
       "    .dataframe tbody tr th:only-of-type {\n",
       "        vertical-align: middle;\n",
       "    }\n",
       "\n",
       "    .dataframe tbody tr th {\n",
       "        vertical-align: top;\n",
       "    }\n",
       "\n",
       "    .dataframe thead th {\n",
       "        text-align: right;\n",
       "    }\n",
       "</style>\n",
       "<table border=\"1\" class=\"dataframe\">\n",
       "  <thead>\n",
       "    <tr style=\"text-align: right;\">\n",
       "      <th></th>\n",
       "      <th>Country</th>\n",
       "      <th>Region</th>\n",
       "      <th>Score</th>\n",
       "      <th>GDP(log)</th>\n",
       "      <th>Support</th>\n",
       "      <th>Health</th>\n",
       "      <th>Freedom</th>\n",
       "      <th>Generosity</th>\n",
       "      <th>Corruption</th>\n",
       "    </tr>\n",
       "  </thead>\n",
       "  <tbody>\n",
       "    <tr>\n",
       "      <th>0</th>\n",
       "      <td>Finland</td>\n",
       "      <td>Western Europe</td>\n",
       "      <td>7.842</td>\n",
       "      <td>10.775</td>\n",
       "      <td>0.954</td>\n",
       "      <td>72.0</td>\n",
       "      <td>0.949</td>\n",
       "      <td>-0.098</td>\n",
       "      <td>0.186</td>\n",
       "    </tr>\n",
       "    <tr>\n",
       "      <th>1</th>\n",
       "      <td>Denmark</td>\n",
       "      <td>Western Europe</td>\n",
       "      <td>7.620</td>\n",
       "      <td>10.933</td>\n",
       "      <td>0.954</td>\n",
       "      <td>72.7</td>\n",
       "      <td>0.946</td>\n",
       "      <td>0.030</td>\n",
       "      <td>0.179</td>\n",
       "    </tr>\n",
       "    <tr>\n",
       "      <th>2</th>\n",
       "      <td>Switzerland</td>\n",
       "      <td>Western Europe</td>\n",
       "      <td>7.571</td>\n",
       "      <td>11.117</td>\n",
       "      <td>0.942</td>\n",
       "      <td>74.4</td>\n",
       "      <td>0.919</td>\n",
       "      <td>0.025</td>\n",
       "      <td>0.292</td>\n",
       "    </tr>\n",
       "    <tr>\n",
       "      <th>3</th>\n",
       "      <td>Iceland</td>\n",
       "      <td>Western Europe</td>\n",
       "      <td>7.554</td>\n",
       "      <td>10.878</td>\n",
       "      <td>0.983</td>\n",
       "      <td>73.0</td>\n",
       "      <td>0.955</td>\n",
       "      <td>0.160</td>\n",
       "      <td>0.673</td>\n",
       "    </tr>\n",
       "    <tr>\n",
       "      <th>4</th>\n",
       "      <td>Netherlands</td>\n",
       "      <td>Western Europe</td>\n",
       "      <td>7.464</td>\n",
       "      <td>10.932</td>\n",
       "      <td>0.942</td>\n",
       "      <td>72.4</td>\n",
       "      <td>0.913</td>\n",
       "      <td>0.175</td>\n",
       "      <td>0.338</td>\n",
       "    </tr>\n",
       "  </tbody>\n",
       "</table>\n",
       "</div>"
      ],
      "text/plain": [
       "       Country          Region  Score  GDP(log)  Support  Health  Freedom  \\\n",
       "0      Finland  Western Europe  7.842    10.775    0.954    72.0    0.949   \n",
       "1      Denmark  Western Europe  7.620    10.933    0.954    72.7    0.946   \n",
       "2  Switzerland  Western Europe  7.571    11.117    0.942    74.4    0.919   \n",
       "3      Iceland  Western Europe  7.554    10.878    0.983    73.0    0.955   \n",
       "4  Netherlands  Western Europe  7.464    10.932    0.942    72.4    0.913   \n",
       "\n",
       "   Generosity  Corruption  \n",
       "0      -0.098       0.186  \n",
       "1       0.030       0.179  \n",
       "2       0.025       0.292  \n",
       "3       0.160       0.673  \n",
       "4       0.175       0.338  "
      ]
     },
     "execution_count": 12,
     "metadata": {},
     "output_type": "execute_result"
    }
   ],
   "source": [
    "# Top 5\n",
    "\n",
    "top = df.sort_values(by='Score',ascending=False)\n",
    "top.head()"
   ]
  },
  {
   "cell_type": "code",
   "execution_count": 13,
   "id": "alpha-student",
   "metadata": {},
   "outputs": [
    {
     "data": {
      "text/html": [
       "<div>\n",
       "<style scoped>\n",
       "    .dataframe tbody tr th:only-of-type {\n",
       "        vertical-align: middle;\n",
       "    }\n",
       "\n",
       "    .dataframe tbody tr th {\n",
       "        vertical-align: top;\n",
       "    }\n",
       "\n",
       "    .dataframe thead th {\n",
       "        text-align: right;\n",
       "    }\n",
       "</style>\n",
       "<table border=\"1\" class=\"dataframe\">\n",
       "  <thead>\n",
       "    <tr style=\"text-align: right;\">\n",
       "      <th></th>\n",
       "      <th>Country</th>\n",
       "      <th>Region</th>\n",
       "      <th>Score</th>\n",
       "      <th>GDP(log)</th>\n",
       "      <th>Support</th>\n",
       "      <th>Health</th>\n",
       "      <th>Freedom</th>\n",
       "      <th>Generosity</th>\n",
       "      <th>Corruption</th>\n",
       "    </tr>\n",
       "  </thead>\n",
       "  <tbody>\n",
       "    <tr>\n",
       "      <th>144</th>\n",
       "      <td>Lesotho</td>\n",
       "      <td>Sub-Saharan Africa</td>\n",
       "      <td>3.512</td>\n",
       "      <td>7.926</td>\n",
       "      <td>0.787</td>\n",
       "      <td>48.700</td>\n",
       "      <td>0.715</td>\n",
       "      <td>-0.131</td>\n",
       "      <td>0.915</td>\n",
       "    </tr>\n",
       "    <tr>\n",
       "      <th>145</th>\n",
       "      <td>Botswana</td>\n",
       "      <td>Sub-Saharan Africa</td>\n",
       "      <td>3.467</td>\n",
       "      <td>9.782</td>\n",
       "      <td>0.784</td>\n",
       "      <td>59.269</td>\n",
       "      <td>0.824</td>\n",
       "      <td>-0.246</td>\n",
       "      <td>0.801</td>\n",
       "    </tr>\n",
       "    <tr>\n",
       "      <th>146</th>\n",
       "      <td>Rwanda</td>\n",
       "      <td>Sub-Saharan Africa</td>\n",
       "      <td>3.415</td>\n",
       "      <td>7.676</td>\n",
       "      <td>0.552</td>\n",
       "      <td>61.400</td>\n",
       "      <td>0.897</td>\n",
       "      <td>0.061</td>\n",
       "      <td>0.167</td>\n",
       "    </tr>\n",
       "    <tr>\n",
       "      <th>147</th>\n",
       "      <td>Zimbabwe</td>\n",
       "      <td>Sub-Saharan Africa</td>\n",
       "      <td>3.145</td>\n",
       "      <td>7.943</td>\n",
       "      <td>0.750</td>\n",
       "      <td>56.201</td>\n",
       "      <td>0.677</td>\n",
       "      <td>-0.047</td>\n",
       "      <td>0.821</td>\n",
       "    </tr>\n",
       "    <tr>\n",
       "      <th>148</th>\n",
       "      <td>Afghanistan</td>\n",
       "      <td>South Asia</td>\n",
       "      <td>2.523</td>\n",
       "      <td>7.695</td>\n",
       "      <td>0.463</td>\n",
       "      <td>52.493</td>\n",
       "      <td>0.382</td>\n",
       "      <td>-0.102</td>\n",
       "      <td>0.924</td>\n",
       "    </tr>\n",
       "  </tbody>\n",
       "</table>\n",
       "</div>"
      ],
      "text/plain": [
       "         Country              Region  Score  GDP(log)  Support  Health  \\\n",
       "144      Lesotho  Sub-Saharan Africa  3.512     7.926    0.787  48.700   \n",
       "145     Botswana  Sub-Saharan Africa  3.467     9.782    0.784  59.269   \n",
       "146       Rwanda  Sub-Saharan Africa  3.415     7.676    0.552  61.400   \n",
       "147     Zimbabwe  Sub-Saharan Africa  3.145     7.943    0.750  56.201   \n",
       "148  Afghanistan          South Asia  2.523     7.695    0.463  52.493   \n",
       "\n",
       "     Freedom  Generosity  Corruption  \n",
       "144    0.715      -0.131       0.915  \n",
       "145    0.824      -0.246       0.801  \n",
       "146    0.897       0.061       0.167  \n",
       "147    0.677      -0.047       0.821  \n",
       "148    0.382      -0.102       0.924  "
      ]
     },
     "execution_count": 13,
     "metadata": {},
     "output_type": "execute_result"
    }
   ],
   "source": [
    "# Bottom 5\n",
    "bottom = df.sort_values(by='Score',ascending=False)\n",
    "bottom.tail()"
   ]
  },
  {
   "cell_type": "markdown",
   "id": "respiratory-possible",
   "metadata": {},
   "source": [
    "### Happiness Score based on the Region"
   ]
  },
  {
   "cell_type": "code",
   "execution_count": 14,
   "id": "bottom-radius",
   "metadata": {},
   "outputs": [
    {
     "data": {
      "text/html": [
       "<div>\n",
       "<style scoped>\n",
       "    .dataframe tbody tr th:only-of-type {\n",
       "        vertical-align: middle;\n",
       "    }\n",
       "\n",
       "    .dataframe tbody tr th {\n",
       "        vertical-align: top;\n",
       "    }\n",
       "\n",
       "    .dataframe thead th {\n",
       "        text-align: right;\n",
       "    }\n",
       "</style>\n",
       "<table border=\"1\" class=\"dataframe\">\n",
       "  <thead>\n",
       "    <tr style=\"text-align: right;\">\n",
       "      <th></th>\n",
       "      <th>Score</th>\n",
       "    </tr>\n",
       "    <tr>\n",
       "      <th>Region</th>\n",
       "      <th></th>\n",
       "    </tr>\n",
       "  </thead>\n",
       "  <tbody>\n",
       "    <tr>\n",
       "      <th>Central and Eastern Europe</th>\n",
       "      <td>101.741</td>\n",
       "    </tr>\n",
       "    <tr>\n",
       "      <th>Commonwealth of Independent States</th>\n",
       "      <td>65.604</td>\n",
       "    </tr>\n",
       "    <tr>\n",
       "      <th>East Asia</th>\n",
       "      <td>34.862</td>\n",
       "    </tr>\n",
       "    <tr>\n",
       "      <th>Latin America and Caribbean</th>\n",
       "      <td>118.161</td>\n",
       "    </tr>\n",
       "    <tr>\n",
       "      <th>Middle East and North Africa</th>\n",
       "      <td>88.736</td>\n",
       "    </tr>\n",
       "    <tr>\n",
       "      <th>North America and ANZ</th>\n",
       "      <td>28.514</td>\n",
       "    </tr>\n",
       "    <tr>\n",
       "      <th>South Asia</th>\n",
       "      <td>31.093</td>\n",
       "    </tr>\n",
       "    <tr>\n",
       "      <th>Southeast Asia</th>\n",
       "      <td>48.668</td>\n",
       "    </tr>\n",
       "    <tr>\n",
       "      <th>Sub-Saharan Africa</th>\n",
       "      <td>161.801</td>\n",
       "    </tr>\n",
       "    <tr>\n",
       "      <th>Western Europe</th>\n",
       "      <td>145.213</td>\n",
       "    </tr>\n",
       "  </tbody>\n",
       "</table>\n",
       "</div>"
      ],
      "text/plain": [
       "                                      Score\n",
       "Region                                     \n",
       "Central and Eastern Europe          101.741\n",
       "Commonwealth of Independent States   65.604\n",
       "East Asia                            34.862\n",
       "Latin America and Caribbean         118.161\n",
       "Middle East and North Africa         88.736\n",
       "North America and ANZ                28.514\n",
       "South Asia                           31.093\n",
       "Southeast Asia                       48.668\n",
       "Sub-Saharan Africa                  161.801\n",
       "Western Europe                      145.213"
      ]
     },
     "execution_count": 14,
     "metadata": {},
     "output_type": "execute_result"
    }
   ],
   "source": [
    "data = df.groupby('Region')[['Score']].sum()\n",
    "data"
   ]
  },
  {
   "cell_type": "markdown",
   "id": "maritime-quarterly",
   "metadata": {},
   "source": [
    "### GDP vs Score"
   ]
  },
  {
   "cell_type": "code",
   "execution_count": null,
   "id": "foreign-theater",
   "metadata": {},
   "outputs": [],
   "source": [
    "px.scatter(df, x='GDP(log)', y='Score',\n",
    "           animation_frame='Region',\n",
    "           animation_group='Country',\n",
    "           color='Country', hover_name='Country',\n",
    "           trendline= 'ols')"
   ]
  },
  {
   "cell_type": "markdown",
   "id": "aggressive-coalition",
   "metadata": {},
   "source": [
    "### Support vs Score"
   ]
  },
  {
   "cell_type": "code",
   "execution_count": null,
   "id": "annoying-heart",
   "metadata": {},
   "outputs": [],
   "source": [
    "px.scatter(df, x='Support', y='Score',\n",
    "           animation_frame='Region',\n",
    "           animation_group='Country',\n",
    "           color='Country', hover_name='Country',\n",
    "           trendline= 'ols')"
   ]
  },
  {
   "cell_type": "markdown",
   "id": "sixth-karaoke",
   "metadata": {},
   "source": [
    "### Health vs Score"
   ]
  },
  {
   "cell_type": "code",
   "execution_count": null,
   "id": "outside-address",
   "metadata": {},
   "outputs": [],
   "source": [
    "px.scatter(df, x='Health', y='Score',\n",
    "           animation_frame='Region',\n",
    "           animation_group='Country',\n",
    "           color='Country', hover_name='Country',\n",
    "           trendline= 'ols')"
   ]
  },
  {
   "cell_type": "markdown",
   "id": "sacred-setting",
   "metadata": {},
   "source": [
    "### Freedom vs Score"
   ]
  },
  {
   "cell_type": "code",
   "execution_count": null,
   "id": "viral-detective",
   "metadata": {},
   "outputs": [],
   "source": [
    "px.scatter(df, x='Freedom', y='Score',\n",
    "           animation_frame='Region',\n",
    "           animation_group='Country',\n",
    "           color='Country', hover_name='Country',\n",
    "           trendline= 'ols')"
   ]
  },
  {
   "cell_type": "markdown",
   "id": "racial-sacramento",
   "metadata": {},
   "source": [
    "### Generosity vs Score"
   ]
  },
  {
   "cell_type": "code",
   "execution_count": null,
   "id": "economic-function",
   "metadata": {},
   "outputs": [],
   "source": [
    "px.scatter(df, x='Generosity', y='Score',\n",
    "           animation_frame='Region',\n",
    "           animation_group='Country',\n",
    "           color='Country', hover_name='Country',\n",
    "           trendline= 'ols')"
   ]
  },
  {
   "cell_type": "markdown",
   "id": "committed-tobago",
   "metadata": {},
   "source": [
    "### Corruption vs Score"
   ]
  },
  {
   "cell_type": "code",
   "execution_count": null,
   "id": "bronze-magnet",
   "metadata": {},
   "outputs": [],
   "source": [
    "px.scatter(df, x='Corruption', y='Score',\n",
    "           animation_frame='Region',\n",
    "           animation_group='Country',\n",
    "           color='Country', hover_name='Country',\n",
    "           trendline= 'ols')"
   ]
  },
  {
   "cell_type": "markdown",
   "id": "armed-secret",
   "metadata": {},
   "source": [
    "### Seeing which feature is important to have high happiness score among top 10 countries"
   ]
  },
  {
   "cell_type": "code",
   "execution_count": 15,
   "id": "flexible-marketing",
   "metadata": {},
   "outputs": [
    {
     "data": {
      "text/plain": [
       "Text(0.5, 1.0, 'Happiness Score of the top 10 Countries')"
      ]
     },
     "execution_count": 15,
     "metadata": {},
     "output_type": "execute_result"
    },
    {
     "data": {
      "image/png": "[encoded data removed]",
      "text/plain": [
       "<Figure size 1080x1080 with 1 Axes>"
      ]
     },
     "metadata": {
      "needs_background": "light"
     },
     "output_type": "display_data"
    }
   ],
   "source": [
    "df.sort_values(by='Score',ascending=False).head(10).plot(x = 'Country',y=['Region','GDP(log)','Support','Health','Freedom','Generosity','Corruption'],kind='bar', figsize= (15, 15))\n",
    "plt.xlabel(\"Happiness Score\")\n",
    "plt.title('Happiness Score of the top 10 Countries')"
   ]
  },
  {
   "cell_type": "markdown",
   "id": "hollywood-richards",
   "metadata": {},
   "source": [
    "It is clearly visible as the country where Health(Actually Healthy life expectancy) is high has a more happiness score. One more thing which is can be considered here is that the country where people take good care of their health in the current scenario of covid-19 the country's happiness score is high. The second most considerable feature is GDP."
   ]
  }
 ],
 "metadata": {
  "kernelspec": {
   "display_name": "Python 3",
   "language": "python",
   "name": "python3"
  },
  "language_info": {
   "codemirror_mode": {
    "name": "ipython",
    "version": 3
   },
   "file_extension": ".py",
   "mimetype": "text/x-python",
   "name": "python",
   "nbconvert_exporter": "python",
   "pygments_lexer": "ipython3",
   "version": "3.7.10"
  }
 },
 "nbformat": 4,
 "nbformat_minor": 5
}
